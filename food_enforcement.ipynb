{
 "cells": [
  {
   "cell_type": "markdown",
   "metadata": {},
   "source": [
    "### DATASET: FOOD ENFORCEMENT ###\n",
    "**Information:**\n",
    "- Data Source: FDA Recall Enterprise System (RES) \n",
    "- Time Period Covered: 2004 to Present\n",
    "- Terms: https://open.fda.gov/terms/\n",
    "- License: https://open.fda.gov/license/\n",
    "- Last Updated: 2024-09-25\n",
    "- Total: 26467"
   ]
  },
  {
   "cell_type": "markdown",
   "metadata": {},
   "source": [
    "#### 1. Business Understanding and Analytic Approach"
   ]
  },
  {
   "cell_type": "markdown",
   "metadata": {},
   "source": [
    "<p>Recalling defective or potentially harmful FDA-regulated products is the most effective way to protect public health. Most recalls are voluntary, initiated by companies upon discovering issues, but they can also occur after FDA raises concerns. Recalls are generally more efficient than formal legal actions and ensure consumer protection.  The FDA oversees the recall process, classifies the hazards, and assesses the adequacy of the recall, with information published in Enforcement Reports. </p>\n",
    "<p>While not all recalls are widely publicized, they are included in the FDA's weekly reports once classified. Manufacturers can initiate recalls at any time to address risks, and the FDA may update recall information as necessary, such as expanding the scope of a recall based on new findings.</p>\n"
   ]
  },
  {
   "cell_type": "markdown",
   "metadata": {},
   "source": [
    "The FDA classifies food recalls into three main categories based on the severity of the potential health risk:\n",
    "\n",
    "- Class I Recall: This is the most serious type of recall. It involves situations where there is a reasonable probability that the use of, or exposure to, the recalled food will cause serious adverse health consequences or death.\n",
    "\n",
    "- Class II Recall: This type of recall involves situations where the use of, or exposure to, the recalled food may cause temporary or medically reversible adverse health consequences, or where the probability of serious adverse health consequences is remote. \n",
    "\n",
    "- Class III Recall: This is the least serious type of recall. It pertains to products that are not likely to cause any adverse health consequences. "
   ]
  },
  {
   "cell_type": "markdown",
   "metadata": {},
   "source": [
    "#### 2. Data Collection, Understanding, Preparation"
   ]
  },
  {
   "cell_type": "markdown",
   "metadata": {},
   "source": [
    "##### a. Data Collection"
   ]
  },
  {
   "cell_type": "code",
   "execution_count": 59,
   "metadata": {},
   "outputs": [
    {
     "name": "stdout",
     "output_type": "stream",
     "text": [
      "Requirement already satisfied: countryinfo in c:\\users\\admin\\appdata\\local\\packages\\pythonsoftwarefoundation.python.3.11_qbz5n2kfra8p0\\localcache\\local-packages\\python311\\site-packages (0.1.2)\n"
     ]
    }
   ],
   "source": [
    "!pip install countryinfo"
   ]
  },
  {
   "cell_type": "code",
   "execution_count": 61,
   "metadata": {},
   "outputs": [],
   "source": [
    "# Importing Libraries\n",
    "import pandas as pd\n",
    "import matplotlib.pyplot as plt\n",
    "import json\n",
    "from countryinfo import CountryInfo\n",
    "import numpy as np"
   ]
  },
  {
   "cell_type": "code",
   "execution_count": 62,
   "metadata": {},
   "outputs": [],
   "source": [
    "# Loading Data from downloaded JSON file\n",
    "with open('food_enforcement.json', 'r') as file:\n",
    "    data = json.load(file)"
   ]
  },
  {
   "cell_type": "code",
   "execution_count": 63,
   "metadata": {},
   "outputs": [],
   "source": [
    "# Converting into DataFrame using Pandas\n",
    "food_enforcement_df = pd.DataFrame.from_dict(data)\n",
    "\n",
    "# Coverting DataFrame to CSV to load data into database easier\n",
    "food_enforcement_df.to_csv('food_enforcement.csv')"
   ]
  },
  {
   "cell_type": "code",
   "execution_count": 64,
   "metadata": {},
   "outputs": [
    {
     "data": {
      "text/plain": [
       "26467"
      ]
     },
     "execution_count": 64,
     "metadata": {},
     "output_type": "execute_result"
    }
   ],
   "source": [
    "len(food_enforcement_df.recall_number.unique())"
   ]
  },
  {
   "cell_type": "code",
   "execution_count": 65,
   "metadata": {},
   "outputs": [
    {
     "data": {
      "text/html": [
       "<div>\n",
       "<style scoped>\n",
       "    .dataframe tbody tr th:only-of-type {\n",
       "        vertical-align: middle;\n",
       "    }\n",
       "\n",
       "    .dataframe tbody tr th {\n",
       "        vertical-align: top;\n",
       "    }\n",
       "\n",
       "    .dataframe thead th {\n",
       "        text-align: right;\n",
       "    }\n",
       "</style>\n",
       "<table border=\"1\" class=\"dataframe\">\n",
       "  <thead>\n",
       "    <tr style=\"text-align: right;\">\n",
       "      <th></th>\n",
       "      <th>status</th>\n",
       "      <th>city</th>\n",
       "      <th>state</th>\n",
       "      <th>country</th>\n",
       "      <th>classification</th>\n",
       "      <th>openfda</th>\n",
       "      <th>product_type</th>\n",
       "      <th>event_id</th>\n",
       "      <th>recalling_firm</th>\n",
       "      <th>address_1</th>\n",
       "      <th>...</th>\n",
       "      <th>recall_number</th>\n",
       "      <th>product_description</th>\n",
       "      <th>product_quantity</th>\n",
       "      <th>reason_for_recall</th>\n",
       "      <th>recall_initiation_date</th>\n",
       "      <th>center_classification_date</th>\n",
       "      <th>report_date</th>\n",
       "      <th>code_info</th>\n",
       "      <th>more_code_info</th>\n",
       "      <th>termination_date</th>\n",
       "    </tr>\n",
       "  </thead>\n",
       "  <tbody>\n",
       "    <tr>\n",
       "      <th>0</th>\n",
       "      <td>Ongoing</td>\n",
       "      <td>Topeka</td>\n",
       "      <td>KS</td>\n",
       "      <td>United States</td>\n",
       "      <td>Class II</td>\n",
       "      <td>{}</td>\n",
       "      <td>Food</td>\n",
       "      <td>95096</td>\n",
       "      <td>Reser's Fine Foods, Inc.</td>\n",
       "      <td>3728 SE 6th St</td>\n",
       "      <td>...</td>\n",
       "      <td>F-1803-2024</td>\n",
       "      <td>UPC 71117 14743, Reser s Rotisserie Chicken Sa...</td>\n",
       "      <td>38 cases</td>\n",
       "      <td>Foreign material.</td>\n",
       "      <td>20240802</td>\n",
       "      <td>20240912</td>\n",
       "      <td>20240918</td>\n",
       "      <td>Use By Sep/13/2024</td>\n",
       "      <td></td>\n",
       "      <td>NaN</td>\n",
       "    </tr>\n",
       "    <tr>\n",
       "      <th>1</th>\n",
       "      <td>Ongoing</td>\n",
       "      <td>Topeka</td>\n",
       "      <td>KS</td>\n",
       "      <td>United States</td>\n",
       "      <td>Class II</td>\n",
       "      <td>{}</td>\n",
       "      <td>Food</td>\n",
       "      <td>95096</td>\n",
       "      <td>Reser's Fine Foods, Inc.</td>\n",
       "      <td>3728 SE 6th St</td>\n",
       "      <td>...</td>\n",
       "      <td>F-1801-2024</td>\n",
       "      <td>UPC 71117 19063, Reser's American Classics Gar...</td>\n",
       "      <td>278 cases</td>\n",
       "      <td>Foreign material.</td>\n",
       "      <td>20240802</td>\n",
       "      <td>20240912</td>\n",
       "      <td>20240918</td>\n",
       "      <td>Use By Sep/05/2024</td>\n",
       "      <td></td>\n",
       "      <td>NaN</td>\n",
       "    </tr>\n",
       "    <tr>\n",
       "      <th>2</th>\n",
       "      <td>Ongoing</td>\n",
       "      <td>Boulder</td>\n",
       "      <td>CO</td>\n",
       "      <td>United States</td>\n",
       "      <td>Class II</td>\n",
       "      <td>{}</td>\n",
       "      <td>Food</td>\n",
       "      <td>95255</td>\n",
       "      <td>American Outdoor Products, Inc.</td>\n",
       "      <td>6350 Gunpark Dr</td>\n",
       "      <td>...</td>\n",
       "      <td>F-1807-2024</td>\n",
       "      <td>American Outdoor Products - Astronaut Strawber...</td>\n",
       "      <td>14,235 units</td>\n",
       "      <td>Elevated levels of lead</td>\n",
       "      <td>20240822</td>\n",
       "      <td>20240912</td>\n",
       "      <td>20240918</td>\n",
       "      <td>UPC: 048143300106  Lot numbers: 125130, 125133...</td>\n",
       "      <td></td>\n",
       "      <td>NaN</td>\n",
       "    </tr>\n",
       "  </tbody>\n",
       "</table>\n",
       "<p>3 rows × 25 columns</p>\n",
       "</div>"
      ],
      "text/plain": [
       "    status     city state        country classification openfda product_type  \\\n",
       "0  Ongoing   Topeka    KS  United States       Class II      {}         Food   \n",
       "1  Ongoing   Topeka    KS  United States       Class II      {}         Food   \n",
       "2  Ongoing  Boulder    CO  United States       Class II      {}         Food   \n",
       "\n",
       "  event_id                   recalling_firm        address_1  ...  \\\n",
       "0    95096         Reser's Fine Foods, Inc.   3728 SE 6th St  ...   \n",
       "1    95096         Reser's Fine Foods, Inc.   3728 SE 6th St  ...   \n",
       "2    95255  American Outdoor Products, Inc.  6350 Gunpark Dr  ...   \n",
       "\n",
       "  recall_number                                product_description  \\\n",
       "0   F-1803-2024  UPC 71117 14743, Reser s Rotisserie Chicken Sa...   \n",
       "1   F-1801-2024  UPC 71117 19063, Reser's American Classics Gar...   \n",
       "2   F-1807-2024  American Outdoor Products - Astronaut Strawber...   \n",
       "\n",
       "  product_quantity        reason_for_recall recall_initiation_date  \\\n",
       "0         38 cases        Foreign material.               20240802   \n",
       "1        278 cases        Foreign material.               20240802   \n",
       "2     14,235 units  Elevated levels of lead               20240822   \n",
       "\n",
       "  center_classification_date report_date  \\\n",
       "0                   20240912    20240918   \n",
       "1                   20240912    20240918   \n",
       "2                   20240912    20240918   \n",
       "\n",
       "                                           code_info more_code_info  \\\n",
       "0                                 Use By Sep/13/2024                  \n",
       "1                                 Use By Sep/05/2024                  \n",
       "2  UPC: 048143300106  Lot numbers: 125130, 125133...                  \n",
       "\n",
       "  termination_date  \n",
       "0              NaN  \n",
       "1              NaN  \n",
       "2              NaN  \n",
       "\n",
       "[3 rows x 25 columns]"
      ]
     },
     "execution_count": 65,
     "metadata": {},
     "output_type": "execute_result"
    }
   ],
   "source": [
    "# Data Exploration\n",
    "food_enforcement_df.head(3)"
   ]
  },
  {
   "cell_type": "code",
   "execution_count": 66,
   "metadata": {},
   "outputs": [
    {
     "data": {
      "text/plain": [
       "status                            0\n",
       "city                              0\n",
       "state                             0\n",
       "country                           0\n",
       "classification                    0\n",
       "openfda                           0\n",
       "product_type                      0\n",
       "event_id                          0\n",
       "recalling_firm                    0\n",
       "address_1                         0\n",
       "address_2                         0\n",
       "postal_code                       0\n",
       "voluntary_mandated                0\n",
       "initial_firm_notification         0\n",
       "distribution_pattern              0\n",
       "recall_number                     0\n",
       "product_description               0\n",
       "product_quantity                  0\n",
       "reason_for_recall                 0\n",
       "recall_initiation_date            0\n",
       "center_classification_date        1\n",
       "report_date                       0\n",
       "code_info                         0\n",
       "more_code_info                15715\n",
       "termination_date               1333\n",
       "dtype: int64"
      ]
     },
     "execution_count": 66,
     "metadata": {},
     "output_type": "execute_result"
    }
   ],
   "source": [
    "# Check for missing values:\n",
    "null_data = food_enforcement_df.isnull().sum()\n",
    "\n",
    "null_data"
   ]
  },
  {
   "cell_type": "markdown",
   "metadata": {},
   "source": [
    "##### b. Data Understanding"
   ]
  },
  {
   "cell_type": "code",
   "execution_count": 27,
   "metadata": {},
   "outputs": [
    {
     "name": "stdout",
     "output_type": "stream",
     "text": [
      "<class 'pandas.core.frame.DataFrame'>\n",
      "RangeIndex: 26467 entries, 0 to 26466\n",
      "Data columns (total 25 columns):\n",
      " #   Column                      Non-Null Count  Dtype \n",
      "---  ------                      --------------  ----- \n",
      " 0   status                      26467 non-null  object\n",
      " 1   city                        26467 non-null  object\n",
      " 2   state                       26467 non-null  object\n",
      " 3   country                     26467 non-null  object\n",
      " 4   classification              26467 non-null  object\n",
      " 5   openfda                     26467 non-null  object\n",
      " 6   product_type                26467 non-null  object\n",
      " 7   event_id                    26467 non-null  object\n",
      " 8   recalling_firm              26467 non-null  object\n",
      " 9   address_1                   26467 non-null  object\n",
      " 10  address_2                   26467 non-null  object\n",
      " 11  postal_code                 26467 non-null  object\n",
      " 12  voluntary_mandated          26467 non-null  object\n",
      " 13  initial_firm_notification   26467 non-null  object\n",
      " 14  distribution_pattern        26467 non-null  object\n",
      " 15  recall_number               26467 non-null  object\n",
      " 16  product_description         26467 non-null  object\n",
      " 17  product_quantity            26467 non-null  object\n",
      " 18  reason_for_recall           26467 non-null  object\n",
      " 19  recall_initiation_date      26467 non-null  object\n",
      " 20  center_classification_date  26466 non-null  object\n",
      " 21  report_date                 26467 non-null  object\n",
      " 22  code_info                   26467 non-null  object\n",
      " 23  more_code_info              10752 non-null  object\n",
      " 24  termination_date            25134 non-null  object\n",
      "dtypes: object(25)\n",
      "memory usage: 5.0+ MB\n"
     ]
    }
   ],
   "source": [
    "food_enforcement_df.info()"
   ]
  },
  {
   "cell_type": "code",
   "execution_count": 28,
   "metadata": {},
   "outputs": [],
   "source": [
    "country_data = food_enforcement_df.country.unique()"
   ]
  },
  {
   "cell_type": "code",
   "execution_count": 29,
   "metadata": {},
   "outputs": [],
   "source": [
    "asian_countries = []\n",
    "europe_countries = []\n",
    "americas_contries = []\n",
    "africa_aus_countries = []\n",
    "for country in country_data:\n",
    "    if CountryInfo(country).region() == 'Asia':\n",
    "        asian_countries.append(country)\n",
    "    elif CountryInfo(country).region() == 'Europe':\n",
    "        europe_countries.append(country)\n",
    "    elif CountryInfo(country).region() == 'Americas':\n",
    "        americas_contries.append(country)\n",
    "    else:\n",
    "        africa_aus_countries.append(country)"
   ]
  },
  {
   "cell_type": "markdown",
   "metadata": {},
   "source": [
    "##### c. Data Cleaning"
   ]
  },
  {
   "cell_type": "markdown",
   "metadata": {},
   "source": [
    "**Formating date in data**"
   ]
  },
  {
   "cell_type": "code",
   "execution_count": 96,
   "metadata": {},
   "outputs": [
    {
     "name": "stdout",
     "output_type": "stream",
     "text": [
      "Invalid date data: 02121207\n"
     ]
    }
   ],
   "source": [
    "for row in food_enforcement_df['recall_initiation_date']:\n",
    "    if int(row) < 20000000:\n",
    "        print(\"Invalid date data:\", row)"
   ]
  },
  {
   "cell_type": "code",
   "execution_count": 99,
   "metadata": {},
   "outputs": [],
   "source": [
    "# specify the index of the invalid data \n",
    "i = food_enforcement_df[(food_enforcement_df.recall_initiation_date== '02121207')].index\n",
    "\n",
    "# then drop row ith\n",
    "\n",
    "food_enforcement_df.drop(i, inplace=True)"
   ]
  },
  {
   "cell_type": "code",
   "execution_count": 117,
   "metadata": {},
   "outputs": [],
   "source": [
    "food_enforcement_df['recall_initiation_date'] = pd.to_datetime(food_enforcement_df['recall_initiation_date'])"
   ]
  },
  {
   "cell_type": "markdown",
   "metadata": {},
   "source": [
    "**Filter Relevant Columns**"
   ]
  },
  {
   "cell_type": "code",
   "execution_count": 104,
   "metadata": {},
   "outputs": [
    {
     "data": {
      "text/html": [
       "<div>\n",
       "<style scoped>\n",
       "    .dataframe tbody tr th:only-of-type {\n",
       "        vertical-align: middle;\n",
       "    }\n",
       "\n",
       "    .dataframe tbody tr th {\n",
       "        vertical-align: top;\n",
       "    }\n",
       "\n",
       "    .dataframe thead th {\n",
       "        text-align: right;\n",
       "    }\n",
       "</style>\n",
       "<table border=\"1\" class=\"dataframe\">\n",
       "  <thead>\n",
       "    <tr style=\"text-align: right;\">\n",
       "      <th></th>\n",
       "      <th>status</th>\n",
       "      <th>city</th>\n",
       "      <th>country</th>\n",
       "      <th>classification</th>\n",
       "      <th>recalling_firm</th>\n",
       "      <th>voluntary_mandated</th>\n",
       "      <th>distribution_pattern</th>\n",
       "      <th>recall_initiation_date</th>\n",
       "      <th>recall_number</th>\n",
       "    </tr>\n",
       "  </thead>\n",
       "  <tbody>\n",
       "    <tr>\n",
       "      <th>0</th>\n",
       "      <td>Ongoing</td>\n",
       "      <td>Topeka</td>\n",
       "      <td>United States</td>\n",
       "      <td>Class II</td>\n",
       "      <td>Reser's Fine Foods, Inc.</td>\n",
       "      <td>Voluntary: Firm initiated</td>\n",
       "      <td>Distributed in AR, IL, KS, MO, NC, NE, OK, TN,...</td>\n",
       "      <td>2024-08-02</td>\n",
       "      <td>F-1803-2024</td>\n",
       "    </tr>\n",
       "    <tr>\n",
       "      <th>1</th>\n",
       "      <td>Ongoing</td>\n",
       "      <td>Topeka</td>\n",
       "      <td>United States</td>\n",
       "      <td>Class II</td>\n",
       "      <td>Reser's Fine Foods, Inc.</td>\n",
       "      <td>Voluntary: Firm initiated</td>\n",
       "      <td>Distributed in AR, IL, KS, MO, NC, NE, OK, TN,...</td>\n",
       "      <td>2024-08-02</td>\n",
       "      <td>F-1801-2024</td>\n",
       "    </tr>\n",
       "    <tr>\n",
       "      <th>2</th>\n",
       "      <td>Ongoing</td>\n",
       "      <td>Boulder</td>\n",
       "      <td>United States</td>\n",
       "      <td>Class II</td>\n",
       "      <td>American Outdoor Products, Inc.</td>\n",
       "      <td>Voluntary: Firm initiated</td>\n",
       "      <td>Nationwide: Alabama, California, Colorado, Del...</td>\n",
       "      <td>2024-08-22</td>\n",
       "      <td>F-1807-2024</td>\n",
       "    </tr>\n",
       "  </tbody>\n",
       "</table>\n",
       "</div>"
      ],
      "text/plain": [
       "    status     city        country classification  \\\n",
       "0  Ongoing   Topeka  United States       Class II   \n",
       "1  Ongoing   Topeka  United States       Class II   \n",
       "2  Ongoing  Boulder  United States       Class II   \n",
       "\n",
       "                    recalling_firm         voluntary_mandated  \\\n",
       "0         Reser's Fine Foods, Inc.  Voluntary: Firm initiated   \n",
       "1         Reser's Fine Foods, Inc.  Voluntary: Firm initiated   \n",
       "2  American Outdoor Products, Inc.  Voluntary: Firm initiated   \n",
       "\n",
       "                                distribution_pattern recall_initiation_date  \\\n",
       "0  Distributed in AR, IL, KS, MO, NC, NE, OK, TN,...             2024-08-02   \n",
       "1  Distributed in AR, IL, KS, MO, NC, NE, OK, TN,...             2024-08-02   \n",
       "2  Nationwide: Alabama, California, Colorado, Del...             2024-08-22   \n",
       "\n",
       "  recall_number  \n",
       "0   F-1803-2024  \n",
       "1   F-1801-2024  \n",
       "2   F-1807-2024  "
      ]
     },
     "execution_count": 104,
     "metadata": {},
     "output_type": "execute_result"
    }
   ],
   "source": [
    "food_enforcement_df = food_enforcement_df[['status', 'city', 'country', 'classification',\n",
    "                                           'recalling_firm', 'voluntary_mandated', 'distribution_pattern',\n",
    "                                           'recall_initiation_date', 'recall_number']]\n",
    "\n",
    "food_enforcement_df.head(3)"
   ]
  },
  {
   "cell_type": "code",
   "execution_count": 105,
   "metadata": {},
   "outputs": [],
   "source": [
    "def classify_region(country):\n",
    "    if country in asian_countries:\n",
    "        return 'Asia'\n",
    "    elif country in europe_countries:\n",
    "        return 'Europe'\n",
    "    elif country in americas_contries:\n",
    "        return 'Americas'\n",
    "    else: \n",
    "        return 'Other'"
   ]
  },
  {
   "cell_type": "code",
   "execution_count": 106,
   "metadata": {},
   "outputs": [],
   "source": [
    "food_enforcement_df['region'] = food_enforcement_df['country'].apply(classify_region)"
   ]
  },
  {
   "cell_type": "code",
   "execution_count": 107,
   "metadata": {},
   "outputs": [
    {
     "data": {
      "image/png": "[encoded data removed]",
      "text/plain": [
       "<Figure size 640x480 with 1 Axes>"
      ]
     },
     "metadata": {},
     "output_type": "display_data"
    }
   ],
   "source": [
    "# Getting number of food enforcement case in each region\n",
    "\n",
    "asia_number = len(food_enforcement_df[food_enforcement_df['region']=='Asia'])\n",
    "europe_number = len(food_enforcement_df[food_enforcement_df['region']=='Europe'])\n",
    "americas_number = len(food_enforcement_df[food_enforcement_df['region']=='Americas'])\n",
    "other_number = len(food_enforcement_df[food_enforcement_df['region']=='Other'])\n",
    "\n",
    "region_lable = np.array([\"Asia\", \"Europe\", \"Americas\", \"Other\"])\n",
    "food_enforcement_case_number = np.array([asia_number, europe_number, americas_number, other_number])\n",
    "\n",
    "# plt.bar(region_lable, food_enforcement_case_number, width = 0.1)\n",
    "plt.pie(food_enforcement_case_number)\n",
    "plt.show()"
   ]
  },
  {
   "cell_type": "code",
   "execution_count": 115,
   "metadata": {},
   "outputs": [],
   "source": [
    "terminated_number = len(food_enforcement_df[food_enforcement_df['status']=='Terminated'])\n",
    "on_going_number = len(food_enforcement_df[food_enforcement_df['status']=='Ongoing'])\n",
    "completed_number = len(food_enforcement_df[food_enforcement_df['status']=='Completed'])"
   ]
  },
  {
   "cell_type": "code",
   "execution_count": 128,
   "metadata": {},
   "outputs": [
    {
     "data": {
      "text/plain": [
       "recall_initiation_date\n",
       "2008-02-22     1\n",
       "2008-06-07     3\n",
       "2008-06-09     1\n",
       "2008-07-07    32\n",
       "2009-01-28     2\n",
       "Name: recall_number, dtype: int64"
      ]
     },
     "execution_count": 128,
     "metadata": {},
     "output_type": "execute_result"
    }
   ],
   "source": [
    "enforcement_time = food_enforcement_df.groupby('recall_initiation_date')['recall_number'].count()\n",
    "# enforcement_time = enforcement_time.set_index('recall_initiation_date')\n",
    "\n",
    "enforcement_time.head()"
   ]
  },
  {
   "cell_type": "code",
   "execution_count": 132,
   "metadata": {},
   "outputs": [
    {
     "data": {
      "text/plain": [
       "[<matplotlib.lines.Line2D at 0x1aaf4fdac90>]"
      ]
     },
     "execution_count": 132,
     "metadata": {},
     "output_type": "execute_result"
    },
    {
     "data": {
      "image/png": "[encoded data removed]",
      "text/plain": [
       "<Figure size 2000x600 with 1 Axes>"
      ]
     },
     "metadata": {},
     "output_type": "display_data"
    }
   ],
   "source": [
    "# Time series of number of food enforcement process\n",
    "fig, ax = plt.subplots(figsize=(20, 6))\n",
    "ax.plot(enforcement_time)"
   ]
  }
 ],
 "metadata": {
  "kernelspec": {
   "display_name": "Python 3",
   "language": "python",
   "name": "python3"
  },
  "language_info": {
   "codemirror_mode": {
    "name": "ipython",
    "version": 3
   },
   "file_extension": ".py",
   "mimetype": "text/x-python",
   "name": "python",
   "nbconvert_exporter": "python",
   "pygments_lexer": "ipython3",
   "version": "3.11.9"
  }
 },
 "nbformat": 4,
 "nbformat_minor": 2
}
