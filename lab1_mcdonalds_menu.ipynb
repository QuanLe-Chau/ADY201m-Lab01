{
 "cells": [
  {
   "cell_type": "markdown",
   "metadata": {},
   "source": [
    "# Nutrition Facts for McDonald's Menu"
   ]
  },
  {
   "cell_type": "markdown",
   "metadata": {},
   "source": [
    "## 1. Business Understanding and Analytic Approach\n",
    "Analyze nutrition facts in McDonald's Menu to identify correlation between nutrient value in McDonald's menu and calories "
   ]
  },
  {
   "cell_type": "markdown",
   "metadata": {},
   "source": [
    "## 2. Data Collection, Understanding and Preparaton"
   ]
  },
  {
   "cell_type": "markdown",
   "metadata": {},
   "source": [
    "### a. Data Collection"
   ]
  },
  {
   "cell_type": "markdown",
   "metadata": {},
   "source": [
    "Data Name: Nutrition Facts for McDonald's Menu  \n",
    "Source: Kaggle  \n",
    "Link: https://www.kaggle.com/datasets/mcdonalds/nutrition-facts/data"
   ]
  },
  {
   "cell_type": "markdown",
   "metadata": {},
   "source": [
    "### b. Data Understanding"
   ]
  },
  {
   "cell_type": "markdown",
   "metadata": {},
   "source": [
    "**Content**  \n",
    "This dataset provides a nutrition analysis of every menu item on the US McDonald's menu, including breakfast, beef burgers, chicken and fish sandwiches, fries, salads, soda, coffee and tea, milkshakes, and desserts.\n",
    "\n",
    "**Acknowledgement**  \n",
    "The menu items and nutrition facts were scraped from the McDonald's website."
   ]
  },
  {
   "cell_type": "markdown",
   "metadata": {},
   "source": [
    "#### Set up"
   ]
  },
  {
   "cell_type": "code",
   "execution_count": 61,
   "metadata": {},
   "outputs": [
    {
     "name": "stdout",
     "output_type": "stream",
     "text": [
      "Requirement already satisfied: ipython-sql in c:\\users\\admin\\appdata\\local\\packages\\pythonsoftwarefoundation.python.3.11_qbz5n2kfra8p0\\localcache\\local-packages\\python311\\site-packages (0.5.0)\n",
      "Requirement already satisfied: prettytable in c:\\users\\admin\\appdata\\local\\packages\\pythonsoftwarefoundation.python.3.11_qbz5n2kfra8p0\\localcache\\local-packages\\python311\\site-packages (from ipython-sql) (3.11.0)\n",
      "Requirement already satisfied: ipython in c:\\users\\admin\\appdata\\local\\packages\\pythonsoftwarefoundation.python.3.11_qbz5n2kfra8p0\\localcache\\local-packages\\python311\\site-packages (from ipython-sql) (8.27.0)\n",
      "Requirement already satisfied: sqlalchemy>=2.0 in c:\\users\\admin\\appdata\\local\\packages\\pythonsoftwarefoundation.python.3.11_qbz5n2kfra8p0\\localcache\\local-packages\\python311\\site-packages (from ipython-sql) (2.0.35)\n",
      "Requirement already satisfied: sqlparse in c:\\users\\admin\\appdata\\local\\packages\\pythonsoftwarefoundation.python.3.11_qbz5n2kfra8p0\\localcache\\local-packages\\python311\\site-packages (from ipython-sql) (0.5.1)\n",
      "Requirement already satisfied: six in c:\\users\\admin\\appdata\\local\\packages\\pythonsoftwarefoundation.python.3.11_qbz5n2kfra8p0\\localcache\\local-packages\\python311\\site-packages (from ipython-sql) (1.16.0)\n",
      "Requirement already satisfied: ipython-genutils in c:\\users\\admin\\appdata\\local\\packages\\pythonsoftwarefoundation.python.3.11_qbz5n2kfra8p0\\localcache\\local-packages\\python311\\site-packages (from ipython-sql) (0.2.0)\n",
      "Requirement already satisfied: typing-extensions>=4.6.0 in c:\\users\\admin\\appdata\\local\\packages\\pythonsoftwarefoundation.python.3.11_qbz5n2kfra8p0\\localcache\\local-packages\\python311\\site-packages (from sqlalchemy>=2.0->ipython-sql) (4.12.2)\n",
      "Requirement already satisfied: greenlet!=0.4.17 in c:\\users\\admin\\appdata\\local\\packages\\pythonsoftwarefoundation.python.3.11_qbz5n2kfra8p0\\localcache\\local-packages\\python311\\site-packages (from sqlalchemy>=2.0->ipython-sql) (3.1.1)\n",
      "Requirement already satisfied: decorator in c:\\users\\admin\\appdata\\local\\packages\\pythonsoftwarefoundation.python.3.11_qbz5n2kfra8p0\\localcache\\local-packages\\python311\\site-packages (from ipython->ipython-sql) (5.1.1)\n",
      "Requirement already satisfied: jedi>=0.16 in c:\\users\\admin\\appdata\\local\\packages\\pythonsoftwarefoundation.python.3.11_qbz5n2kfra8p0\\localcache\\local-packages\\python311\\site-packages (from ipython->ipython-sql) (0.19.1)\n",
      "Requirement already satisfied: matplotlib-inline in c:\\users\\admin\\appdata\\local\\packages\\pythonsoftwarefoundation.python.3.11_qbz5n2kfra8p0\\localcache\\local-packages\\python311\\site-packages (from ipython->ipython-sql) (0.1.7)\n",
      "Requirement already satisfied: prompt-toolkit<3.1.0,>=3.0.41 in c:\\users\\admin\\appdata\\local\\packages\\pythonsoftwarefoundation.python.3.11_qbz5n2kfra8p0\\localcache\\local-packages\\python311\\site-packages (from ipython->ipython-sql) (3.0.47)\n",
      "Requirement already satisfied: pygments>=2.4.0 in c:\\users\\admin\\appdata\\local\\packages\\pythonsoftwarefoundation.python.3.11_qbz5n2kfra8p0\\localcache\\local-packages\\python311\\site-packages (from ipython->ipython-sql) (2.18.0)\n",
      "Requirement already satisfied: stack-data in c:\\users\\admin\\appdata\\local\\packages\\pythonsoftwarefoundation.python.3.11_qbz5n2kfra8p0\\localcache\\local-packages\\python311\\site-packages (from ipython->ipython-sql) (0.6.3)\n",
      "Requirement already satisfied: traitlets>=5.13.0 in c:\\users\\admin\\appdata\\local\\packages\\pythonsoftwarefoundation.python.3.11_qbz5n2kfra8p0\\localcache\\local-packages\\python311\\site-packages (from ipython->ipython-sql) (5.14.3)\n",
      "Requirement already satisfied: colorama in c:\\users\\admin\\appdata\\local\\packages\\pythonsoftwarefoundation.python.3.11_qbz5n2kfra8p0\\localcache\\local-packages\\python311\\site-packages (from ipython->ipython-sql) (0.4.6)\n",
      "Requirement already satisfied: wcwidth in c:\\users\\admin\\appdata\\local\\packages\\pythonsoftwarefoundation.python.3.11_qbz5n2kfra8p0\\localcache\\local-packages\\python311\\site-packages (from prettytable->ipython-sql) (0.2.13)\n",
      "Requirement already satisfied: parso<0.9.0,>=0.8.3 in c:\\users\\admin\\appdata\\local\\packages\\pythonsoftwarefoundation.python.3.11_qbz5n2kfra8p0\\localcache\\local-packages\\python311\\site-packages (from jedi>=0.16->ipython->ipython-sql) (0.8.4)\n",
      "Requirement already satisfied: executing>=1.2.0 in c:\\users\\admin\\appdata\\local\\packages\\pythonsoftwarefoundation.python.3.11_qbz5n2kfra8p0\\localcache\\local-packages\\python311\\site-packages (from stack-data->ipython->ipython-sql) (2.1.0)\n",
      "Requirement already satisfied: asttokens>=2.1.0 in c:\\users\\admin\\appdata\\local\\packages\\pythonsoftwarefoundation.python.3.11_qbz5n2kfra8p0\\localcache\\local-packages\\python311\\site-packages (from stack-data->ipython->ipython-sql) (2.4.1)\n",
      "Requirement already satisfied: pure-eval in c:\\users\\admin\\appdata\\local\\packages\\pythonsoftwarefoundation.python.3.11_qbz5n2kfra8p0\\localcache\\local-packages\\python311\\site-packages (from stack-data->ipython->ipython-sql) (0.2.3)\n"
     ]
    }
   ],
   "source": [
    "!pip install --user ipython-sql"
   ]
  },
  {
   "cell_type": "code",
   "execution_count": 62,
   "metadata": {},
   "outputs": [],
   "source": [
    "import pandas as pd\n",
    "import numpy as np\n",
    "import seaborn as sns\n",
    "import sqlite3\n",
    "# from sklearn.preprocessing import MinMaxScaler\n",
    "import matplotlib.pyplot as plt "
   ]
  },
  {
   "cell_type": "markdown",
   "metadata": {},
   "source": [
    "## 3. Data Loading"
   ]
  },
  {
   "cell_type": "code",
   "execution_count": 63,
   "metadata": {},
   "outputs": [],
   "source": [
    "# Load Data into Pandas Dataframe\n",
    "\n",
    "mcd_data = pd.read_csv(\"mcdonalds_menu.csv\")"
   ]
  },
  {
   "cell_type": "code",
   "execution_count": 64,
   "metadata": {},
   "outputs": [],
   "source": [
    "# Rename Data Columns\n",
    "\n",
    "mcd_data.rename(columns={'Category': 'category',\n",
    "                         'Item': 'item',\n",
    "                         'Serving Size': 'serving_size',\n",
    "                         'Calories': 'calories',\n",
    "                         'Calories from Fat': 'calo_from_fat',\n",
    "                         'Total Fat': 'total_fat',\n",
    "                         'Total Fat (% Daily Value)': 'total_fat_dv',\n",
    "                         'Saturated Fat': 'saturated_fat', \n",
    "                         'Saturated Fat (% Daily Value)': 'saturated_fat_dv',\n",
    "                         'Trans Fat': 'trans_fat',\n",
    "                         'Cholesterol': 'cholesterol',\n",
    "                         'Cholesterol (% Daily Value)': 'cholesterol_dv',\n",
    "                         'Sodium': 'sodium',\n",
    "                         'Sodium (% Daily Value)': 'sodium_dv',\n",
    "                         'Carbohydrates': 'carb',\n",
    "                         'Carbohydrates (% Daily Value)': 'carb_dv',\n",
    "                         'Dietary Fiber': 'fiber',\n",
    "                         'Dietary Fiber (% Daily Value)': 'fiber_dv',\n",
    "                         'Sugars': 'sugar',\n",
    "                         'Protein': 'protein',\n",
    "                         'Vitamin A (% Daily Value)': 'vitamin_a_dv',\n",
    "                         'Vitamin C (% Daily Value)': 'vitamin_c_dv',\n",
    "                         'Calcium (% Daily Value)': 'calcium_dv',\n",
    "                         'Iron (% Daily Value)': 'iron_dv'},\n",
    "                         inplace=True)"
   ]
  },
  {
   "cell_type": "code",
   "execution_count": 65,
   "metadata": {},
   "outputs": [
    {
     "data": {
      "text/html": [
       "<div>\n",
       "<style scoped>\n",
       "    .dataframe tbody tr th:only-of-type {\n",
       "        vertical-align: middle;\n",
       "    }\n",
       "\n",
       "    .dataframe tbody tr th {\n",
       "        vertical-align: top;\n",
       "    }\n",
       "\n",
       "    .dataframe thead th {\n",
       "        text-align: right;\n",
       "    }\n",
       "</style>\n",
       "<table border=\"1\" class=\"dataframe\">\n",
       "  <thead>\n",
       "    <tr style=\"text-align: right;\">\n",
       "      <th></th>\n",
       "      <th>category</th>\n",
       "      <th>item</th>\n",
       "      <th>serving_size</th>\n",
       "      <th>calories</th>\n",
       "      <th>calo_from_fat</th>\n",
       "      <th>total_fat</th>\n",
       "      <th>total_fat_dv</th>\n",
       "      <th>saturated_fat</th>\n",
       "      <th>saturated_fat_dv</th>\n",
       "      <th>trans_fat</th>\n",
       "      <th>...</th>\n",
       "      <th>carb</th>\n",
       "      <th>carb_dv</th>\n",
       "      <th>fiber</th>\n",
       "      <th>fiber_dv</th>\n",
       "      <th>sugar</th>\n",
       "      <th>protein</th>\n",
       "      <th>vitamin_a_dv</th>\n",
       "      <th>vitamin_c_dv</th>\n",
       "      <th>calcium_dv</th>\n",
       "      <th>iron_dv</th>\n",
       "    </tr>\n",
       "  </thead>\n",
       "  <tbody>\n",
       "    <tr>\n",
       "      <th>0</th>\n",
       "      <td>Breakfast</td>\n",
       "      <td>Egg McMuffin</td>\n",
       "      <td>4.8 oz (136 g)</td>\n",
       "      <td>300</td>\n",
       "      <td>120</td>\n",
       "      <td>13.0</td>\n",
       "      <td>20</td>\n",
       "      <td>5.0</td>\n",
       "      <td>25</td>\n",
       "      <td>0.0</td>\n",
       "      <td>...</td>\n",
       "      <td>31</td>\n",
       "      <td>10</td>\n",
       "      <td>4</td>\n",
       "      <td>17</td>\n",
       "      <td>3</td>\n",
       "      <td>17</td>\n",
       "      <td>10</td>\n",
       "      <td>0</td>\n",
       "      <td>25</td>\n",
       "      <td>15</td>\n",
       "    </tr>\n",
       "    <tr>\n",
       "      <th>1</th>\n",
       "      <td>Breakfast</td>\n",
       "      <td>Egg White Delight</td>\n",
       "      <td>4.8 oz (135 g)</td>\n",
       "      <td>250</td>\n",
       "      <td>70</td>\n",
       "      <td>8.0</td>\n",
       "      <td>12</td>\n",
       "      <td>3.0</td>\n",
       "      <td>15</td>\n",
       "      <td>0.0</td>\n",
       "      <td>...</td>\n",
       "      <td>30</td>\n",
       "      <td>10</td>\n",
       "      <td>4</td>\n",
       "      <td>17</td>\n",
       "      <td>3</td>\n",
       "      <td>18</td>\n",
       "      <td>6</td>\n",
       "      <td>0</td>\n",
       "      <td>25</td>\n",
       "      <td>8</td>\n",
       "    </tr>\n",
       "    <tr>\n",
       "      <th>2</th>\n",
       "      <td>Breakfast</td>\n",
       "      <td>Sausage McMuffin</td>\n",
       "      <td>3.9 oz (111 g)</td>\n",
       "      <td>370</td>\n",
       "      <td>200</td>\n",
       "      <td>23.0</td>\n",
       "      <td>35</td>\n",
       "      <td>8.0</td>\n",
       "      <td>42</td>\n",
       "      <td>0.0</td>\n",
       "      <td>...</td>\n",
       "      <td>29</td>\n",
       "      <td>10</td>\n",
       "      <td>4</td>\n",
       "      <td>17</td>\n",
       "      <td>2</td>\n",
       "      <td>14</td>\n",
       "      <td>8</td>\n",
       "      <td>0</td>\n",
       "      <td>25</td>\n",
       "      <td>10</td>\n",
       "    </tr>\n",
       "  </tbody>\n",
       "</table>\n",
       "<p>3 rows × 24 columns</p>\n",
       "</div>"
      ],
      "text/plain": [
       "    category               item    serving_size  calories  calo_from_fat  \\\n",
       "0  Breakfast       Egg McMuffin  4.8 oz (136 g)       300            120   \n",
       "1  Breakfast  Egg White Delight  4.8 oz (135 g)       250             70   \n",
       "2  Breakfast   Sausage McMuffin  3.9 oz (111 g)       370            200   \n",
       "\n",
       "   total_fat  total_fat_dv  saturated_fat  saturated_fat_dv  trans_fat  ...  \\\n",
       "0       13.0            20            5.0                25        0.0  ...   \n",
       "1        8.0            12            3.0                15        0.0  ...   \n",
       "2       23.0            35            8.0                42        0.0  ...   \n",
       "\n",
       "   carb  carb_dv  fiber  fiber_dv  sugar  protein  vitamin_a_dv  vitamin_c_dv  \\\n",
       "0    31       10      4        17      3       17            10             0   \n",
       "1    30       10      4        17      3       18             6             0   \n",
       "2    29       10      4        17      2       14             8             0   \n",
       "\n",
       "   calcium_dv  iron_dv  \n",
       "0          25       15  \n",
       "1          25        8  \n",
       "2          25       10  \n",
       "\n",
       "[3 rows x 24 columns]"
      ]
     },
     "execution_count": 65,
     "metadata": {},
     "output_type": "execute_result"
    }
   ],
   "source": [
    "# Reset index and show a first few row of data\n",
    "\n",
    "mcd_data.reset_index()\n",
    "mcd_data.head(3)"
   ]
  },
  {
   "cell_type": "markdown",
   "metadata": {},
   "source": [
    "Load dataframe into database"
   ]
  },
  {
   "cell_type": "code",
   "execution_count": 66,
   "metadata": {},
   "outputs": [
    {
     "name": "stdout",
     "output_type": "stream",
     "text": [
      "The sql extension is already loaded. To reload it, use:\n",
      "  %reload_ext sql\n"
     ]
    }
   ],
   "source": [
    "%load_ext sql"
   ]
  },
  {
   "cell_type": "code",
   "execution_count": 67,
   "metadata": {},
   "outputs": [],
   "source": [
    "conn = sqlite3.connect('ADY201m-lab.db')\n",
    "cur = conn.cursor()"
   ]
  },
  {
   "cell_type": "code",
   "execution_count": 68,
   "metadata": {},
   "outputs": [
    {
     "data": {
      "text/plain": [
       "260"
      ]
     },
     "execution_count": 68,
     "metadata": {},
     "output_type": "execute_result"
    }
   ],
   "source": [
    "# Load data into database\n",
    "\n",
    "cur.execute(\"DROP TABLE IF EXISTS McDonalds_Menu\")\n",
    "mcd_data.to_sql('McDonalds_Menu', conn)"
   ]
  },
  {
   "cell_type": "markdown",
   "metadata": {},
   "source": [
    "## 4. Data Wragling\n",
    "- Handle Missing Values\n",
    "- Correct Data Format\n",
    "- Data Standardization\n",
    "- Data Normalization\n",
    "- Bining and Bins Visulization\n",
    "- Indicator Variables/"
   ]
  },
  {
   "cell_type": "markdown",
   "metadata": {},
   "source": [
    "### Handle Missing Values"
   ]
  },
  {
   "cell_type": "code",
   "execution_count": 69,
   "metadata": {},
   "outputs": [
    {
     "data": {
      "text/plain": [
       "category            0\n",
       "item                0\n",
       "serving_size        0\n",
       "calories            0\n",
       "calo_from_fat       0\n",
       "total_fat           0\n",
       "total_fat_dv        0\n",
       "saturated_fat       0\n",
       "saturated_fat_dv    0\n",
       "trans_fat           0\n",
       "cholesterol         0\n",
       "cholesterol_dv      0\n",
       "sodium              0\n",
       "sodium_dv           0\n",
       "carb                0\n",
       "carb_dv             0\n",
       "fiber               0\n",
       "fiber_dv            0\n",
       "sugar               0\n",
       "protein             0\n",
       "vitamin_a_dv        0\n",
       "vitamin_c_dv        0\n",
       "calcium_dv          0\n",
       "iron_dv             0\n",
       "dtype: int64"
      ]
     },
     "execution_count": 69,
     "metadata": {},
     "output_type": "execute_result"
    }
   ],
   "source": [
    "# Check for missing values in DataFrame\n",
    "\n",
    "mcd_data.isnull().sum()"
   ]
  },
  {
   "cell_type": "markdown",
   "metadata": {},
   "source": [
    "There are not missing values in this database so we don't have to handle missing values in this case."
   ]
  },
  {
   "cell_type": "markdown",
   "metadata": {},
   "source": [
    "### Correct Data Format"
   ]
  },
  {
   "cell_type": "code",
   "execution_count": 70,
   "metadata": {},
   "outputs": [
    {
     "name": "stdout",
     "output_type": "stream",
     "text": [
      "<class 'pandas.core.frame.DataFrame'>\n",
      "RangeIndex: 260 entries, 0 to 259\n",
      "Data columns (total 24 columns):\n",
      " #   Column            Non-Null Count  Dtype  \n",
      "---  ------            --------------  -----  \n",
      " 0   category          260 non-null    object \n",
      " 1   item              260 non-null    object \n",
      " 2   serving_size      260 non-null    object \n",
      " 3   calories          260 non-null    int64  \n",
      " 4   calo_from_fat     260 non-null    int64  \n",
      " 5   total_fat         260 non-null    float64\n",
      " 6   total_fat_dv      260 non-null    int64  \n",
      " 7   saturated_fat     260 non-null    float64\n",
      " 8   saturated_fat_dv  260 non-null    int64  \n",
      " 9   trans_fat         260 non-null    float64\n",
      " 10  cholesterol       260 non-null    int64  \n",
      " 11  cholesterol_dv    260 non-null    int64  \n",
      " 12  sodium            260 non-null    int64  \n",
      " 13  sodium_dv         260 non-null    int64  \n",
      " 14  carb              260 non-null    int64  \n",
      " 15  carb_dv           260 non-null    int64  \n",
      " 16  fiber             260 non-null    int64  \n",
      " 17  fiber_dv          260 non-null    int64  \n",
      " 18  sugar             260 non-null    int64  \n",
      " 19  protein           260 non-null    int64  \n",
      " 20  vitamin_a_dv      260 non-null    int64  \n",
      " 21  vitamin_c_dv      260 non-null    int64  \n",
      " 22  calcium_dv        260 non-null    int64  \n",
      " 23  iron_dv           260 non-null    int64  \n",
      "dtypes: float64(3), int64(18), object(3)\n",
      "memory usage: 48.9+ KB\n"
     ]
    }
   ],
   "source": [
    "mcd_data.info()"
   ]
  },
  {
   "cell_type": "markdown",
   "metadata": {},
   "source": [
    "### Data Standardization"
   ]
  },
  {
   "cell_type": "markdown",
   "metadata": {},
   "source": [
    "We have 2 kinds of serving size present in the column 'serving-size' stored in datatype object\n",
    "- oz/g for foods \n",
    "- fl oz/ml for beverages"
   ]
  },
  {
   "cell_type": "code",
   "execution_count": 71,
   "metadata": {},
   "outputs": [
    {
     "data": {
      "text/plain": [
       "0    4.8 oz (136 g)\n",
       "1    4.8 oz (135 g)\n",
       "2    3.9 oz (111 g)\n",
       "3    5.7 oz (161 g)\n",
       "4    5.7 oz (161 g)\n",
       "Name: serving_size, dtype: object"
      ]
     },
     "execution_count": 71,
     "metadata": {},
     "output_type": "execute_result"
    }
   ],
   "source": [
    "mcd_data['serving_size'].head()"
   ]
  },
  {
   "cell_type": "markdown",
   "metadata": {},
   "source": [
    "We bring these into a same measurement unit"
   ]
  },
  {
   "cell_type": "code",
   "execution_count": 72,
   "metadata": {},
   "outputs": [
    {
     "name": "stdout",
     "output_type": "stream",
     "text": [
      "Outliers that need to be handled manually\n",
      "1 cookie (33 g)\n",
      "1 cookie (33 g)\n",
      "1 carton (236 ml)\n",
      "1 carton (236 ml)\n"
     ]
    }
   ],
   "source": [
    "# Formating serving size in oz/ fl oz\n",
    "\n",
    "serving_size_st = []\n",
    "outliers = []\n",
    "index = 0\n",
    "for serving_size in mcd_data['serving_size']:\n",
    "    if 'fl oz' in serving_size:\n",
    "        idx = serving_size.find('fl oz')\n",
    "        serve = float(serving_size[:idx])\n",
    "        serving_size_st.append(serve)\n",
    "        index+=1\n",
    "    elif 'oz' in serving_size:\n",
    "        idx = serving_size.find('oz')\n",
    "        serve = float(serving_size[:idx])\n",
    "        serving_size_st.append(serve)\n",
    "        index+=1\n",
    "    else:\n",
    "        serving_size_st.append(0)\n",
    "        outliers.append(index)\n",
    "        index+=1\n",
    "\n",
    "serving_size_data = mcd_data['serving_size']\n",
    "print('Outliers that need to be handled manually')\n",
    "for i in outliers:\n",
    "    print(serving_size_data.iloc[i])"
   ]
  },
  {
   "cell_type": "code",
   "execution_count": 73,
   "metadata": {},
   "outputs": [],
   "source": [
    "# Handle outliers\n",
    "\n",
    "## 1 g = 0.035274 oz\n",
    "## 1 ml = 0.033814 fl oz\n",
    "for i in outliers:\n",
    "    if serving_size_data.iloc[i] == \"1 cookie (33 g)\":\n",
    "        serving_size_st[i] = round(33 * 0.035274, 2)\n",
    "    elif serving_size_data.iloc[i] == \"1 carton (236 ml)\":\n",
    "        serving_size_st[i] = round(236 * 0.033814, 2)"
   ]
  },
  {
   "cell_type": "code",
   "execution_count": 74,
   "metadata": {},
   "outputs": [],
   "source": [
    "# Add formatted serving size in DataFrame\n",
    "try: \n",
    "    mcd_data['serving-size-st'] = serving_size_st\n",
    "except ValueError:\n",
    "    print('Columns added to DataFrame')"
   ]
  },
  {
   "cell_type": "code",
   "execution_count": 75,
   "metadata": {},
   "outputs": [],
   "source": [
    "mcd_data.drop('serving_size', axis=1, inplace=True)"
   ]
  },
  {
   "cell_type": "markdown",
   "metadata": {},
   "source": [
    "### Bining & Bins Visualization"
   ]
  },
  {
   "cell_type": "markdown",
   "metadata": {},
   "source": [
    "#### Bining Caloric-Content "
   ]
  },
  {
   "cell_type": "markdown",
   "metadata": {},
   "source": [
    "Bining the 'calories' attribute into 3 groups 'low-calo', 'med-calo', 'high-calo'"
   ]
  },
  {
   "cell_type": "code",
   "execution_count": 76,
   "metadata": {},
   "outputs": [
    {
     "data": {
      "text/plain": [
       "Text(0.5, 1.0, 'calories bins')"
      ]
     },
     "execution_count": 76,
     "metadata": {},
     "output_type": "execute_result"
    },
    {
     "data": {
      "image/png": "[encoded data removed]",
      "text/plain": [
       "<Figure size 640x480 with 1 Axes>"
      ]
     },
     "metadata": {},
     "output_type": "display_data"
    }
   ],
   "source": [
    "# Visulize the distribution of caloric content in MC-Donald's menu\n",
    "\n",
    "%matplotlib inline\n",
    "import matplotlib as plt\n",
    "from matplotlib import pyplot\n",
    "plt.pyplot.hist(mcd_data[\"calories\"])\n",
    "\n",
    "# set x/y labels and plot title\n",
    "plt.pyplot.xlabel(\"calories\")\n",
    "plt.pyplot.ylabel(\"number of foods\")\n",
    "plt.pyplot.title(\"calories bins\")"
   ]
  },
  {
   "cell_type": "markdown",
   "metadata": {},
   "source": [
    "Depend on dietary guidelines, we specify the range of calories bins as:\n",
    "- low calories: fewer than 100 calories per serving\n",
    "- medium calories: from 100 to 300 calories perserving\n",
    "- high calories: 300 calories and above per serving"
   ]
  },
  {
   "cell_type": "code",
   "execution_count": 77,
   "metadata": {},
   "outputs": [],
   "source": [
    "calo_bins = np.array([0., 100., 300., max(mcd_data['calories'])])"
   ]
  },
  {
   "cell_type": "code",
   "execution_count": 78,
   "metadata": {},
   "outputs": [
    {
     "data": {
      "text/html": [
       "<div>\n",
       "<style scoped>\n",
       "    .dataframe tbody tr th:only-of-type {\n",
       "        vertical-align: middle;\n",
       "    }\n",
       "\n",
       "    .dataframe tbody tr th {\n",
       "        vertical-align: top;\n",
       "    }\n",
       "\n",
       "    .dataframe thead th {\n",
       "        text-align: right;\n",
       "    }\n",
       "</style>\n",
       "<table border=\"1\" class=\"dataframe\">\n",
       "  <thead>\n",
       "    <tr style=\"text-align: right;\">\n",
       "      <th></th>\n",
       "      <th>calories</th>\n",
       "      <th>caloric-binned</th>\n",
       "    </tr>\n",
       "  </thead>\n",
       "  <tbody>\n",
       "    <tr>\n",
       "      <th>0</th>\n",
       "      <td>300</td>\n",
       "      <td>med-calo</td>\n",
       "    </tr>\n",
       "    <tr>\n",
       "      <th>1</th>\n",
       "      <td>250</td>\n",
       "      <td>med-calo</td>\n",
       "    </tr>\n",
       "    <tr>\n",
       "      <th>2</th>\n",
       "      <td>370</td>\n",
       "      <td>high-calo</td>\n",
       "    </tr>\n",
       "    <tr>\n",
       "      <th>3</th>\n",
       "      <td>450</td>\n",
       "      <td>high-calo</td>\n",
       "    </tr>\n",
       "    <tr>\n",
       "      <th>4</th>\n",
       "      <td>400</td>\n",
       "      <td>high-calo</td>\n",
       "    </tr>\n",
       "  </tbody>\n",
       "</table>\n",
       "</div>"
      ],
      "text/plain": [
       "   calories caloric-binned\n",
       "0       300       med-calo\n",
       "1       250       med-calo\n",
       "2       370      high-calo\n",
       "3       450      high-calo\n",
       "4       400      high-calo"
      ]
     },
     "execution_count": 78,
     "metadata": {},
     "output_type": "execute_result"
    }
   ],
   "source": [
    "caloric_binned_labels=['low-calo', 'med-calo', 'high-calo']\n",
    "\n",
    "mcd_data['caloric-binned'] = pd.cut(mcd_data['calories'], calo_bins, labels=caloric_binned_labels, include_lowest=True )\n",
    "mcd_data[['calories','caloric-binned']].head()"
   ]
  },
  {
   "cell_type": "code",
   "execution_count": 79,
   "metadata": {},
   "outputs": [
    {
     "data": {
      "text/plain": [
       "caloric-binned\n",
       "low-calo      26\n",
       "med-calo      90\n",
       "high-calo    144\n",
       "Name: count, dtype: int64"
      ]
     },
     "execution_count": 79,
     "metadata": {},
     "output_type": "execute_result"
    }
   ],
   "source": [
    "mcd_data['caloric-binned'].value_counts(sort=False)"
   ]
  },
  {
   "cell_type": "code",
   "execution_count": 80,
   "metadata": {},
   "outputs": [
    {
     "data": {
      "text/plain": [
       "Text(0.5, 1.0, 'calories bins')"
      ]
     },
     "execution_count": 80,
     "metadata": {},
     "output_type": "execute_result"
    },
    {
     "data": {
      "image/png": "[encoded data removed]",
      "text/plain": [
       "<Figure size 640x480 with 1 Axes>"
      ]
     },
     "metadata": {},
     "output_type": "display_data"
    }
   ],
   "source": [
    "%matplotlib inline\n",
    "import matplotlib as plt\n",
    "from matplotlib import pyplot\n",
    "pyplot.bar(caloric_binned_labels, mcd_data[\"caloric-binned\"].value_counts(sort=False))\n",
    "\n",
    "# set x/y labels and plot title\n",
    "plt.pyplot.xlabel(\"calories\")\n",
    "plt.pyplot.ylabel(\"count\")\n",
    "plt.pyplot.title(\"calories bins\")"
   ]
  },
  {
   "cell_type": "markdown",
   "metadata": {},
   "source": [
    "We can see that most of the food in the MCDonald's menu contain high caloric-content."
   ]
  },
  {
   "cell_type": "markdown",
   "metadata": {},
   "source": [
    "#### Bining Type of Serving"
   ]
  },
  {
   "cell_type": "markdown",
   "metadata": {},
   "source": [
    "Bining the serving size into 3 groups 'small-serving', 'medium-serving' and 'large-serving'"
   ]
  },
  {
   "cell_type": "markdown",
   "metadata": {},
   "source": [
    "Typical measurements for large, medium, and small portions in ounces:\n",
    "- 4-8 oz/ fl oz: small \n",
    "- 8-16 oz/fl oz: medium\n",
    "- 16-24 oz/fl oz: large"
   ]
  },
  {
   "cell_type": "code",
   "execution_count": 81,
   "metadata": {},
   "outputs": [
    {
     "data": {
      "text/plain": [
       "array([ 0.,  8., 16., 32.])"
      ]
     },
     "execution_count": 81,
     "metadata": {},
     "output_type": "execute_result"
    }
   ],
   "source": [
    "serving_bins = np.array([0., 8., 16., max(mcd_data['serving-size-st'])])\n",
    "serving_bins"
   ]
  },
  {
   "cell_type": "code",
   "execution_count": 82,
   "metadata": {},
   "outputs": [
    {
     "data": {
      "text/html": [
       "<div>\n",
       "<style scoped>\n",
       "    .dataframe tbody tr th:only-of-type {\n",
       "        vertical-align: middle;\n",
       "    }\n",
       "\n",
       "    .dataframe tbody tr th {\n",
       "        vertical-align: top;\n",
       "    }\n",
       "\n",
       "    .dataframe thead th {\n",
       "        text-align: right;\n",
       "    }\n",
       "</style>\n",
       "<table border=\"1\" class=\"dataframe\">\n",
       "  <thead>\n",
       "    <tr style=\"text-align: right;\">\n",
       "      <th></th>\n",
       "      <th>serving-size-st</th>\n",
       "      <th>serving-binned</th>\n",
       "    </tr>\n",
       "  </thead>\n",
       "  <tbody>\n",
       "    <tr>\n",
       "      <th>0</th>\n",
       "      <td>4.8</td>\n",
       "      <td>small-serving</td>\n",
       "    </tr>\n",
       "    <tr>\n",
       "      <th>1</th>\n",
       "      <td>4.8</td>\n",
       "      <td>small-serving</td>\n",
       "    </tr>\n",
       "    <tr>\n",
       "      <th>2</th>\n",
       "      <td>3.9</td>\n",
       "      <td>small-serving</td>\n",
       "    </tr>\n",
       "    <tr>\n",
       "      <th>3</th>\n",
       "      <td>5.7</td>\n",
       "      <td>small-serving</td>\n",
       "    </tr>\n",
       "    <tr>\n",
       "      <th>4</th>\n",
       "      <td>5.7</td>\n",
       "      <td>small-serving</td>\n",
       "    </tr>\n",
       "  </tbody>\n",
       "</table>\n",
       "</div>"
      ],
      "text/plain": [
       "   serving-size-st serving-binned\n",
       "0              4.8  small-serving\n",
       "1              4.8  small-serving\n",
       "2              3.9  small-serving\n",
       "3              5.7  small-serving\n",
       "4              5.7  small-serving"
      ]
     },
     "execution_count": 82,
     "metadata": {},
     "output_type": "execute_result"
    }
   ],
   "source": [
    "serving_binned_labels=['small-serving', 'med-serving', 'large-serving']\n",
    "\n",
    "mcd_data['serving-binned'] = pd.cut(mcd_data['serving-size-st'], serving_bins, labels=serving_binned_labels, include_lowest=True )\n",
    "mcd_data[['serving-size-st','serving-binned']].head()"
   ]
  },
  {
   "cell_type": "code",
   "execution_count": 83,
   "metadata": {},
   "outputs": [
    {
     "data": {
      "text/plain": [
       "serving-binned\n",
       "small-serving     81\n",
       "med-serving      121\n",
       "large-serving     58\n",
       "Name: count, dtype: int64"
      ]
     },
     "execution_count": 83,
     "metadata": {},
     "output_type": "execute_result"
    }
   ],
   "source": [
    "mcd_data['serving-binned'].value_counts(sort=False)"
   ]
  },
  {
   "cell_type": "code",
   "execution_count": 84,
   "metadata": {},
   "outputs": [
    {
     "data": {
      "text/plain": [
       "Text(0.5, 1.0, 'serving size bins')"
      ]
     },
     "execution_count": 84,
     "metadata": {},
     "output_type": "execute_result"
    },
    {
     "data": {
      "image/png": "[encoded data removed]",
      "text/plain": [
       "<Figure size 640x480 with 1 Axes>"
      ]
     },
     "metadata": {},
     "output_type": "display_data"
    }
   ],
   "source": [
    "%matplotlib inline\n",
    "import matplotlib as plt\n",
    "from matplotlib import pyplot\n",
    "pyplot.bar(serving_binned_labels, mcd_data[\"serving-binned\"].value_counts(sort=False))\n",
    "\n",
    "# set x/y labels and plot title\n",
    "plt.pyplot.xlabel(\"serving size\")\n",
    "plt.pyplot.ylabel(\"number of food\")\n",
    "plt.pyplot.title(\"serving size bins\")"
   ]
  },
  {
   "cell_type": "markdown",
   "metadata": {},
   "source": [
    "### Data Normalization"
   ]
  },
  {
   "cell_type": "code",
   "execution_count": 85,
   "metadata": {},
   "outputs": [],
   "source": [
    "# Using Simple Feature Scaling for columns in DataFrame\n",
    "\n",
    "def scaling(df, columns):\n",
    "    df[columns] = df[columns]/df[columns].max()\n",
    "    return df"
   ]
  },
  {
   "cell_type": "code",
   "execution_count": 86,
   "metadata": {},
   "outputs": [
    {
     "name": "stdout",
     "output_type": "stream",
     "text": [
      "<class 'pandas.core.frame.DataFrame'>\n",
      "RangeIndex: 260 entries, 0 to 259\n",
      "Data columns (total 26 columns):\n",
      " #   Column            Non-Null Count  Dtype   \n",
      "---  ------            --------------  -----   \n",
      " 0   category          260 non-null    object  \n",
      " 1   item              260 non-null    object  \n",
      " 2   calories          260 non-null    int64   \n",
      " 3   calo_from_fat     260 non-null    int64   \n",
      " 4   total_fat         260 non-null    float64 \n",
      " 5   total_fat_dv      260 non-null    int64   \n",
      " 6   saturated_fat     260 non-null    float64 \n",
      " 7   saturated_fat_dv  260 non-null    int64   \n",
      " 8   trans_fat         260 non-null    float64 \n",
      " 9   cholesterol       260 non-null    int64   \n",
      " 10  cholesterol_dv    260 non-null    int64   \n",
      " 11  sodium            260 non-null    int64   \n",
      " 12  sodium_dv         260 non-null    int64   \n",
      " 13  carb              260 non-null    int64   \n",
      " 14  carb_dv           260 non-null    int64   \n",
      " 15  fiber             260 non-null    int64   \n",
      " 16  fiber_dv          260 non-null    int64   \n",
      " 17  sugar             260 non-null    int64   \n",
      " 18  protein           260 non-null    int64   \n",
      " 19  vitamin_a_dv      260 non-null    int64   \n",
      " 20  vitamin_c_dv      260 non-null    int64   \n",
      " 21  calcium_dv        260 non-null    int64   \n",
      " 22  iron_dv           260 non-null    int64   \n",
      " 23  serving-size-st   260 non-null    float64 \n",
      " 24  caloric-binned    260 non-null    category\n",
      " 25  serving-binned    260 non-null    category\n",
      "dtypes: category(2), float64(4), int64(18), object(2)\n",
      "memory usage: 49.6+ KB\n"
     ]
    }
   ],
   "source": [
    "mcd_data.info()"
   ]
  },
  {
   "cell_type": "code",
   "execution_count": 87,
   "metadata": {},
   "outputs": [
    {
     "data": {
      "text/html": [
       "<div>\n",
       "<style scoped>\n",
       "    .dataframe tbody tr th:only-of-type {\n",
       "        vertical-align: middle;\n",
       "    }\n",
       "\n",
       "    .dataframe tbody tr th {\n",
       "        vertical-align: top;\n",
       "    }\n",
       "\n",
       "    .dataframe thead th {\n",
       "        text-align: right;\n",
       "    }\n",
       "</style>\n",
       "<table border=\"1\" class=\"dataframe\">\n",
       "  <thead>\n",
       "    <tr style=\"text-align: right;\">\n",
       "      <th></th>\n",
       "      <th>category</th>\n",
       "      <th>item</th>\n",
       "      <th>calories</th>\n",
       "      <th>calo_from_fat</th>\n",
       "      <th>total_fat</th>\n",
       "      <th>total_fat_dv</th>\n",
       "      <th>saturated_fat</th>\n",
       "      <th>saturated_fat_dv</th>\n",
       "      <th>trans_fat</th>\n",
       "      <th>cholesterol</th>\n",
       "      <th>...</th>\n",
       "      <th>fiber_dv</th>\n",
       "      <th>sugar</th>\n",
       "      <th>protein</th>\n",
       "      <th>vitamin_a_dv</th>\n",
       "      <th>vitamin_c_dv</th>\n",
       "      <th>calcium_dv</th>\n",
       "      <th>iron_dv</th>\n",
       "      <th>serving-size-st</th>\n",
       "      <th>caloric-binned</th>\n",
       "      <th>serving-binned</th>\n",
       "    </tr>\n",
       "  </thead>\n",
       "  <tbody>\n",
       "    <tr>\n",
       "      <th>0</th>\n",
       "      <td>Breakfast</td>\n",
       "      <td>Egg McMuffin</td>\n",
       "      <td>300</td>\n",
       "      <td>120</td>\n",
       "      <td>13.0</td>\n",
       "      <td>20</td>\n",
       "      <td>5.0</td>\n",
       "      <td>25</td>\n",
       "      <td>0.0</td>\n",
       "      <td>260</td>\n",
       "      <td>...</td>\n",
       "      <td>17</td>\n",
       "      <td>3</td>\n",
       "      <td>17</td>\n",
       "      <td>10</td>\n",
       "      <td>0</td>\n",
       "      <td>25</td>\n",
       "      <td>15</td>\n",
       "      <td>4.8</td>\n",
       "      <td>med-calo</td>\n",
       "      <td>small-serving</td>\n",
       "    </tr>\n",
       "    <tr>\n",
       "      <th>1</th>\n",
       "      <td>Breakfast</td>\n",
       "      <td>Egg White Delight</td>\n",
       "      <td>250</td>\n",
       "      <td>70</td>\n",
       "      <td>8.0</td>\n",
       "      <td>12</td>\n",
       "      <td>3.0</td>\n",
       "      <td>15</td>\n",
       "      <td>0.0</td>\n",
       "      <td>25</td>\n",
       "      <td>...</td>\n",
       "      <td>17</td>\n",
       "      <td>3</td>\n",
       "      <td>18</td>\n",
       "      <td>6</td>\n",
       "      <td>0</td>\n",
       "      <td>25</td>\n",
       "      <td>8</td>\n",
       "      <td>4.8</td>\n",
       "      <td>med-calo</td>\n",
       "      <td>small-serving</td>\n",
       "    </tr>\n",
       "    <tr>\n",
       "      <th>2</th>\n",
       "      <td>Breakfast</td>\n",
       "      <td>Sausage McMuffin</td>\n",
       "      <td>370</td>\n",
       "      <td>200</td>\n",
       "      <td>23.0</td>\n",
       "      <td>35</td>\n",
       "      <td>8.0</td>\n",
       "      <td>42</td>\n",
       "      <td>0.0</td>\n",
       "      <td>45</td>\n",
       "      <td>...</td>\n",
       "      <td>17</td>\n",
       "      <td>2</td>\n",
       "      <td>14</td>\n",
       "      <td>8</td>\n",
       "      <td>0</td>\n",
       "      <td>25</td>\n",
       "      <td>10</td>\n",
       "      <td>3.9</td>\n",
       "      <td>high-calo</td>\n",
       "      <td>small-serving</td>\n",
       "    </tr>\n",
       "    <tr>\n",
       "      <th>3</th>\n",
       "      <td>Breakfast</td>\n",
       "      <td>Sausage McMuffin with Egg</td>\n",
       "      <td>450</td>\n",
       "      <td>250</td>\n",
       "      <td>28.0</td>\n",
       "      <td>43</td>\n",
       "      <td>10.0</td>\n",
       "      <td>52</td>\n",
       "      <td>0.0</td>\n",
       "      <td>285</td>\n",
       "      <td>...</td>\n",
       "      <td>17</td>\n",
       "      <td>2</td>\n",
       "      <td>21</td>\n",
       "      <td>15</td>\n",
       "      <td>0</td>\n",
       "      <td>30</td>\n",
       "      <td>15</td>\n",
       "      <td>5.7</td>\n",
       "      <td>high-calo</td>\n",
       "      <td>small-serving</td>\n",
       "    </tr>\n",
       "    <tr>\n",
       "      <th>4</th>\n",
       "      <td>Breakfast</td>\n",
       "      <td>Sausage McMuffin with Egg Whites</td>\n",
       "      <td>400</td>\n",
       "      <td>210</td>\n",
       "      <td>23.0</td>\n",
       "      <td>35</td>\n",
       "      <td>8.0</td>\n",
       "      <td>42</td>\n",
       "      <td>0.0</td>\n",
       "      <td>50</td>\n",
       "      <td>...</td>\n",
       "      <td>17</td>\n",
       "      <td>2</td>\n",
       "      <td>21</td>\n",
       "      <td>6</td>\n",
       "      <td>0</td>\n",
       "      <td>25</td>\n",
       "      <td>10</td>\n",
       "      <td>5.7</td>\n",
       "      <td>high-calo</td>\n",
       "      <td>small-serving</td>\n",
       "    </tr>\n",
       "  </tbody>\n",
       "</table>\n",
       "<p>5 rows × 26 columns</p>\n",
       "</div>"
      ],
      "text/plain": [
       "    category                              item  calories  calo_from_fat  \\\n",
       "0  Breakfast                      Egg McMuffin       300            120   \n",
       "1  Breakfast                 Egg White Delight       250             70   \n",
       "2  Breakfast                  Sausage McMuffin       370            200   \n",
       "3  Breakfast         Sausage McMuffin with Egg       450            250   \n",
       "4  Breakfast  Sausage McMuffin with Egg Whites       400            210   \n",
       "\n",
       "   total_fat  total_fat_dv  saturated_fat  saturated_fat_dv  trans_fat  \\\n",
       "0       13.0            20            5.0                25        0.0   \n",
       "1        8.0            12            3.0                15        0.0   \n",
       "2       23.0            35            8.0                42        0.0   \n",
       "3       28.0            43           10.0                52        0.0   \n",
       "4       23.0            35            8.0                42        0.0   \n",
       "\n",
       "   cholesterol  ...  fiber_dv  sugar  protein  vitamin_a_dv  vitamin_c_dv  \\\n",
       "0          260  ...        17      3       17            10             0   \n",
       "1           25  ...        17      3       18             6             0   \n",
       "2           45  ...        17      2       14             8             0   \n",
       "3          285  ...        17      2       21            15             0   \n",
       "4           50  ...        17      2       21             6             0   \n",
       "\n",
       "   calcium_dv  iron_dv  serving-size-st  caloric-binned  serving-binned  \n",
       "0          25       15              4.8        med-calo   small-serving  \n",
       "1          25        8              4.8        med-calo   small-serving  \n",
       "2          25       10              3.9       high-calo   small-serving  \n",
       "3          30       15              5.7       high-calo   small-serving  \n",
       "4          25       10              5.7       high-calo   small-serving  \n",
       "\n",
       "[5 rows x 26 columns]"
      ]
     },
     "execution_count": 87,
     "metadata": {},
     "output_type": "execute_result"
    }
   ],
   "source": [
    "mcd_data.head()"
   ]
  },
  {
   "cell_type": "code",
   "execution_count": 88,
   "metadata": {},
   "outputs": [
    {
     "name": "stderr",
     "output_type": "stream",
     "text": [
      "C:\\Users\\aDMIN\\AppData\\Local\\Temp\\ipykernel_22100\\1122205861.py:1: FutureWarning: Setting an item of incompatible dtype is deprecated and will raise in a future error of pandas. Value '0      0.159574\n",
      "1      0.132979\n",
      "2      0.196809\n",
      "3      0.239362\n",
      "4      0.212766\n",
      "         ...   \n",
      "255    0.271277\n",
      "256    0.367021\n",
      "257    0.180851\n",
      "258    0.430851\n",
      "259    0.218085\n",
      "Name: calories, Length: 260, dtype: float64' has dtype incompatible with int64, please explicitly cast to a compatible dtype first.\n",
      "  mcd_data.iloc[:,2:-2] = mcd_data.iloc[:,2:-2].apply(lambda x: x/ x.max(), axis=0)\n",
      "C:\\Users\\aDMIN\\AppData\\Local\\Temp\\ipykernel_22100\\1122205861.py:1: FutureWarning: Setting an item of incompatible dtype is deprecated and will raise in a future error of pandas. Value '0      0.113208\n",
      "1      0.066038\n",
      "2      0.188679\n",
      "3      0.235849\n",
      "4      0.198113\n",
      "         ...   \n",
      "255    0.141509\n",
      "256    0.188679\n",
      "257    0.094340\n",
      "258    0.273585\n",
      "259    0.141509\n",
      "Name: calo_from_fat, Length: 260, dtype: float64' has dtype incompatible with int64, please explicitly cast to a compatible dtype first.\n",
      "  mcd_data.iloc[:,2:-2] = mcd_data.iloc[:,2:-2].apply(lambda x: x/ x.max(), axis=0)\n",
      "C:\\Users\\aDMIN\\AppData\\Local\\Temp\\ipykernel_22100\\1122205861.py:1: FutureWarning: Setting an item of incompatible dtype is deprecated and will raise in a future error of pandas. Value '0      0.109890\n",
      "1      0.065934\n",
      "2      0.192308\n",
      "3      0.236264\n",
      "4      0.192308\n",
      "         ...   \n",
      "255    0.142857\n",
      "256    0.192308\n",
      "257    0.093407\n",
      "258    0.274725\n",
      "259    0.137363\n",
      "Name: total_fat_dv, Length: 260, dtype: float64' has dtype incompatible with int64, please explicitly cast to a compatible dtype first.\n",
      "  mcd_data.iloc[:,2:-2] = mcd_data.iloc[:,2:-2].apply(lambda x: x/ x.max(), axis=0)\n",
      "C:\\Users\\aDMIN\\AppData\\Local\\Temp\\ipykernel_22100\\1122205861.py:1: FutureWarning: Setting an item of incompatible dtype is deprecated and will raise in a future error of pandas. Value '0      0.245098\n",
      "1      0.147059\n",
      "2      0.411765\n",
      "3      0.509804\n",
      "4      0.411765\n",
      "         ...   \n",
      "255    0.431373\n",
      "256    0.568627\n",
      "257    0.284314\n",
      "258    0.745098\n",
      "259    0.372549\n",
      "Name: saturated_fat_dv, Length: 260, dtype: float64' has dtype incompatible with int64, please explicitly cast to a compatible dtype first.\n",
      "  mcd_data.iloc[:,2:-2] = mcd_data.iloc[:,2:-2].apply(lambda x: x/ x.max(), axis=0)\n",
      "C:\\Users\\aDMIN\\AppData\\Local\\Temp\\ipykernel_22100\\1122205861.py:1: FutureWarning: Setting an item of incompatible dtype is deprecated and will raise in a future error of pandas. Value '0      0.452174\n",
      "1      0.043478\n",
      "2      0.078261\n",
      "3      0.495652\n",
      "4      0.086957\n",
      "         ...   \n",
      "255    0.078261\n",
      "256    0.095652\n",
      "257    0.052174\n",
      "258    0.104348\n",
      "259    0.052174\n",
      "Name: cholesterol, Length: 260, dtype: float64' has dtype incompatible with int64, please explicitly cast to a compatible dtype first.\n",
      "  mcd_data.iloc[:,2:-2] = mcd_data.iloc[:,2:-2].apply(lambda x: x/ x.max(), axis=0)\n",
      "C:\\Users\\aDMIN\\AppData\\Local\\Temp\\ipykernel_22100\\1122205861.py:1: FutureWarning: Setting an item of incompatible dtype is deprecated and will raise in a future error of pandas. Value '0      0.453125\n",
      "1      0.041667\n",
      "2      0.078125\n",
      "3      0.494792\n",
      "4      0.083333\n",
      "         ...   \n",
      "255    0.072917\n",
      "256    0.098958\n",
      "257    0.046875\n",
      "258    0.104167\n",
      "259    0.052083\n",
      "Name: cholesterol_dv, Length: 260, dtype: float64' has dtype incompatible with int64, please explicitly cast to a compatible dtype first.\n",
      "  mcd_data.iloc[:,2:-2] = mcd_data.iloc[:,2:-2].apply(lambda x: x/ x.max(), axis=0)\n",
      "C:\\Users\\aDMIN\\AppData\\Local\\Temp\\ipykernel_22100\\1122205861.py:1: FutureWarning: Setting an item of incompatible dtype is deprecated and will raise in a future error of pandas. Value '0      0.208333\n",
      "1      0.213889\n",
      "2      0.216667\n",
      "3      0.238889\n",
      "4      0.244444\n",
      "         ...   \n",
      "255    0.077778\n",
      "256    0.105556\n",
      "257    0.052778\n",
      "258    0.111111\n",
      "259    0.055556\n",
      "Name: sodium, Length: 260, dtype: float64' has dtype incompatible with int64, please explicitly cast to a compatible dtype first.\n",
      "  mcd_data.iloc[:,2:-2] = mcd_data.iloc[:,2:-2].apply(lambda x: x/ x.max(), axis=0)\n",
      "C:\\Users\\aDMIN\\AppData\\Local\\Temp\\ipykernel_22100\\1122205861.py:1: FutureWarning: Setting an item of incompatible dtype is deprecated and will raise in a future error of pandas. Value '0      0.206667\n",
      "1      0.213333\n",
      "2      0.220000\n",
      "3      0.240000\n",
      "4      0.246667\n",
      "         ...   \n",
      "255    0.080000\n",
      "256    0.106667\n",
      "257    0.053333\n",
      "258    0.113333\n",
      "259    0.053333\n",
      "Name: sodium_dv, Length: 260, dtype: float64' has dtype incompatible with int64, please explicitly cast to a compatible dtype first.\n",
      "  mcd_data.iloc[:,2:-2] = mcd_data.iloc[:,2:-2].apply(lambda x: x/ x.max(), axis=0)\n",
      "C:\\Users\\aDMIN\\AppData\\Local\\Temp\\ipykernel_22100\\1122205861.py:1: FutureWarning: Setting an item of incompatible dtype is deprecated and will raise in a future error of pandas. Value '0      0.219858\n",
      "1      0.212766\n",
      "2      0.205674\n",
      "3      0.212766\n",
      "4      0.212766\n",
      "         ...   \n",
      "255    0.567376\n",
      "256    0.751773\n",
      "257    0.375887\n",
      "258    0.808511\n",
      "259    0.404255\n",
      "Name: carb, Length: 260, dtype: float64' has dtype incompatible with int64, please explicitly cast to a compatible dtype first.\n",
      "  mcd_data.iloc[:,2:-2] = mcd_data.iloc[:,2:-2].apply(lambda x: x/ x.max(), axis=0)\n",
      "C:\\Users\\aDMIN\\AppData\\Local\\Temp\\ipykernel_22100\\1122205861.py:1: FutureWarning: Setting an item of incompatible dtype is deprecated and will raise in a future error of pandas. Value '0      0.212766\n",
      "1      0.212766\n",
      "2      0.212766\n",
      "3      0.212766\n",
      "4      0.212766\n",
      "         ...   \n",
      "255    0.574468\n",
      "256    0.744681\n",
      "257    0.382979\n",
      "258    0.808511\n",
      "259    0.404255\n",
      "Name: carb_dv, Length: 260, dtype: float64' has dtype incompatible with int64, please explicitly cast to a compatible dtype first.\n",
      "  mcd_data.iloc[:,2:-2] = mcd_data.iloc[:,2:-2].apply(lambda x: x/ x.max(), axis=0)\n",
      "C:\\Users\\aDMIN\\AppData\\Local\\Temp\\ipykernel_22100\\1122205861.py:1: FutureWarning: Setting an item of incompatible dtype is deprecated and will raise in a future error of pandas. Value '0      0.571429\n",
      "1      0.571429\n",
      "2      0.571429\n",
      "3      0.571429\n",
      "4      0.571429\n",
      "         ...   \n",
      "255    0.142857\n",
      "256    0.142857\n",
      "257    0.142857\n",
      "258    0.285714\n",
      "259    0.142857\n",
      "Name: fiber, Length: 260, dtype: float64' has dtype incompatible with int64, please explicitly cast to a compatible dtype first.\n",
      "  mcd_data.iloc[:,2:-2] = mcd_data.iloc[:,2:-2].apply(lambda x: x/ x.max(), axis=0)\n",
      "C:\\Users\\aDMIN\\AppData\\Local\\Temp\\ipykernel_22100\\1122205861.py:1: FutureWarning: Setting an item of incompatible dtype is deprecated and will raise in a future error of pandas. Value '0      0.607143\n",
      "1      0.607143\n",
      "2      0.607143\n",
      "3      0.607143\n",
      "4      0.607143\n",
      "         ...   \n",
      "255    0.142857\n",
      "256    0.178571\n",
      "257    0.071429\n",
      "258    0.321429\n",
      "259    0.178571\n",
      "Name: fiber_dv, Length: 260, dtype: float64' has dtype incompatible with int64, please explicitly cast to a compatible dtype first.\n",
      "  mcd_data.iloc[:,2:-2] = mcd_data.iloc[:,2:-2].apply(lambda x: x/ x.max(), axis=0)\n",
      "C:\\Users\\aDMIN\\AppData\\Local\\Temp\\ipykernel_22100\\1122205861.py:1: FutureWarning: Setting an item of incompatible dtype is deprecated and will raise in a future error of pandas. Value '0      0.023438\n",
      "1      0.023438\n",
      "2      0.015625\n",
      "3      0.015625\n",
      "4      0.015625\n",
      "         ...   \n",
      "255    0.500000\n",
      "256    0.664062\n",
      "257    0.335938\n",
      "258    0.804688\n",
      "259    0.398438\n",
      "Name: sugar, Length: 260, dtype: float64' has dtype incompatible with int64, please explicitly cast to a compatible dtype first.\n",
      "  mcd_data.iloc[:,2:-2] = mcd_data.iloc[:,2:-2].apply(lambda x: x/ x.max(), axis=0)\n",
      "C:\\Users\\aDMIN\\AppData\\Local\\Temp\\ipykernel_22100\\1122205861.py:1: FutureWarning: Setting an item of incompatible dtype is deprecated and will raise in a future error of pandas. Value '0      0.195402\n",
      "1      0.206897\n",
      "2      0.160920\n",
      "3      0.241379\n",
      "4      0.241379\n",
      "         ...   \n",
      "255    0.137931\n",
      "256    0.172414\n",
      "257    0.091954\n",
      "258    0.241379\n",
      "259    0.114943\n",
      "Name: protein, Length: 260, dtype: float64' has dtype incompatible with int64, please explicitly cast to a compatible dtype first.\n",
      "  mcd_data.iloc[:,2:-2] = mcd_data.iloc[:,2:-2].apply(lambda x: x/ x.max(), axis=0)\n",
      "C:\\Users\\aDMIN\\AppData\\Local\\Temp\\ipykernel_22100\\1122205861.py:1: FutureWarning: Setting an item of incompatible dtype is deprecated and will raise in a future error of pandas. Value '0      0.058824\n",
      "1      0.035294\n",
      "2      0.047059\n",
      "3      0.088235\n",
      "4      0.035294\n",
      "         ...   \n",
      "255    0.088235\n",
      "256    0.117647\n",
      "257    0.058824\n",
      "258    0.117647\n",
      "259    0.058824\n",
      "Name: vitamin_a_dv, Length: 260, dtype: float64' has dtype incompatible with int64, please explicitly cast to a compatible dtype first.\n",
      "  mcd_data.iloc[:,2:-2] = mcd_data.iloc[:,2:-2].apply(lambda x: x/ x.max(), axis=0)\n",
      "C:\\Users\\aDMIN\\AppData\\Local\\Temp\\ipykernel_22100\\1122205861.py:1: FutureWarning: Setting an item of incompatible dtype is deprecated and will raise in a future error of pandas. Value '0      0.0\n",
      "1      0.0\n",
      "2      0.0\n",
      "3      0.0\n",
      "4      0.0\n",
      "      ... \n",
      "255    0.0\n",
      "256    0.0\n",
      "257    0.0\n",
      "258    0.0\n",
      "259    0.0\n",
      "Name: vitamin_c_dv, Length: 260, dtype: float64' has dtype incompatible with int64, please explicitly cast to a compatible dtype first.\n",
      "  mcd_data.iloc[:,2:-2] = mcd_data.iloc[:,2:-2].apply(lambda x: x/ x.max(), axis=0)\n",
      "C:\\Users\\aDMIN\\AppData\\Local\\Temp\\ipykernel_22100\\1122205861.py:1: FutureWarning: Setting an item of incompatible dtype is deprecated and will raise in a future error of pandas. Value '0      0.357143\n",
      "1      0.357143\n",
      "2      0.357143\n",
      "3      0.428571\n",
      "4      0.357143\n",
      "         ...   \n",
      "255    0.571429\n",
      "256    0.714286\n",
      "257    0.357143\n",
      "258    0.857143\n",
      "259    0.428571\n",
      "Name: calcium_dv, Length: 260, dtype: float64' has dtype incompatible with int64, please explicitly cast to a compatible dtype first.\n",
      "  mcd_data.iloc[:,2:-2] = mcd_data.iloc[:,2:-2].apply(lambda x: x/ x.max(), axis=0)\n",
      "C:\\Users\\aDMIN\\AppData\\Local\\Temp\\ipykernel_22100\\1122205861.py:1: FutureWarning: Setting an item of incompatible dtype is deprecated and will raise in a future error of pandas. Value '0      0.375\n",
      "1      0.200\n",
      "2      0.250\n",
      "3      0.375\n",
      "4      0.250\n",
      "       ...  \n",
      "255    0.200\n",
      "256    0.250\n",
      "257    0.150\n",
      "258    0.150\n",
      "259    0.100\n",
      "Name: iron_dv, Length: 260, dtype: float64' has dtype incompatible with int64, please explicitly cast to a compatible dtype first.\n",
      "  mcd_data.iloc[:,2:-2] = mcd_data.iloc[:,2:-2].apply(lambda x: x/ x.max(), axis=0)\n"
     ]
    },
    {
     "data": {
      "text/html": [
       "<div>\n",
       "<style scoped>\n",
       "    .dataframe tbody tr th:only-of-type {\n",
       "        vertical-align: middle;\n",
       "    }\n",
       "\n",
       "    .dataframe tbody tr th {\n",
       "        vertical-align: top;\n",
       "    }\n",
       "\n",
       "    .dataframe thead th {\n",
       "        text-align: right;\n",
       "    }\n",
       "</style>\n",
       "<table border=\"1\" class=\"dataframe\">\n",
       "  <thead>\n",
       "    <tr style=\"text-align: right;\">\n",
       "      <th></th>\n",
       "      <th>category</th>\n",
       "      <th>item</th>\n",
       "      <th>calories</th>\n",
       "      <th>calo_from_fat</th>\n",
       "      <th>total_fat</th>\n",
       "      <th>total_fat_dv</th>\n",
       "      <th>saturated_fat</th>\n",
       "      <th>saturated_fat_dv</th>\n",
       "      <th>trans_fat</th>\n",
       "      <th>cholesterol</th>\n",
       "      <th>...</th>\n",
       "      <th>fiber_dv</th>\n",
       "      <th>sugar</th>\n",
       "      <th>protein</th>\n",
       "      <th>vitamin_a_dv</th>\n",
       "      <th>vitamin_c_dv</th>\n",
       "      <th>calcium_dv</th>\n",
       "      <th>iron_dv</th>\n",
       "      <th>serving-size-st</th>\n",
       "      <th>caloric-binned</th>\n",
       "      <th>serving-binned</th>\n",
       "    </tr>\n",
       "  </thead>\n",
       "  <tbody>\n",
       "    <tr>\n",
       "      <th>0</th>\n",
       "      <td>Breakfast</td>\n",
       "      <td>Egg McMuffin</td>\n",
       "      <td>0.159574</td>\n",
       "      <td>0.113208</td>\n",
       "      <td>0.110169</td>\n",
       "      <td>0.109890</td>\n",
       "      <td>0.25</td>\n",
       "      <td>0.245098</td>\n",
       "      <td>0.0</td>\n",
       "      <td>0.452174</td>\n",
       "      <td>...</td>\n",
       "      <td>0.607143</td>\n",
       "      <td>0.023438</td>\n",
       "      <td>0.195402</td>\n",
       "      <td>0.058824</td>\n",
       "      <td>0.0</td>\n",
       "      <td>0.357143</td>\n",
       "      <td>0.375</td>\n",
       "      <td>0.150000</td>\n",
       "      <td>med-calo</td>\n",
       "      <td>small-serving</td>\n",
       "    </tr>\n",
       "    <tr>\n",
       "      <th>1</th>\n",
       "      <td>Breakfast</td>\n",
       "      <td>Egg White Delight</td>\n",
       "      <td>0.132979</td>\n",
       "      <td>0.066038</td>\n",
       "      <td>0.067797</td>\n",
       "      <td>0.065934</td>\n",
       "      <td>0.15</td>\n",
       "      <td>0.147059</td>\n",
       "      <td>0.0</td>\n",
       "      <td>0.043478</td>\n",
       "      <td>...</td>\n",
       "      <td>0.607143</td>\n",
       "      <td>0.023438</td>\n",
       "      <td>0.206897</td>\n",
       "      <td>0.035294</td>\n",
       "      <td>0.0</td>\n",
       "      <td>0.357143</td>\n",
       "      <td>0.200</td>\n",
       "      <td>0.150000</td>\n",
       "      <td>med-calo</td>\n",
       "      <td>small-serving</td>\n",
       "    </tr>\n",
       "    <tr>\n",
       "      <th>2</th>\n",
       "      <td>Breakfast</td>\n",
       "      <td>Sausage McMuffin</td>\n",
       "      <td>0.196809</td>\n",
       "      <td>0.188679</td>\n",
       "      <td>0.194915</td>\n",
       "      <td>0.192308</td>\n",
       "      <td>0.40</td>\n",
       "      <td>0.411765</td>\n",
       "      <td>0.0</td>\n",
       "      <td>0.078261</td>\n",
       "      <td>...</td>\n",
       "      <td>0.607143</td>\n",
       "      <td>0.015625</td>\n",
       "      <td>0.160920</td>\n",
       "      <td>0.047059</td>\n",
       "      <td>0.0</td>\n",
       "      <td>0.357143</td>\n",
       "      <td>0.250</td>\n",
       "      <td>0.121875</td>\n",
       "      <td>high-calo</td>\n",
       "      <td>small-serving</td>\n",
       "    </tr>\n",
       "    <tr>\n",
       "      <th>3</th>\n",
       "      <td>Breakfast</td>\n",
       "      <td>Sausage McMuffin with Egg</td>\n",
       "      <td>0.239362</td>\n",
       "      <td>0.235849</td>\n",
       "      <td>0.237288</td>\n",
       "      <td>0.236264</td>\n",
       "      <td>0.50</td>\n",
       "      <td>0.509804</td>\n",
       "      <td>0.0</td>\n",
       "      <td>0.495652</td>\n",
       "      <td>...</td>\n",
       "      <td>0.607143</td>\n",
       "      <td>0.015625</td>\n",
       "      <td>0.241379</td>\n",
       "      <td>0.088235</td>\n",
       "      <td>0.0</td>\n",
       "      <td>0.428571</td>\n",
       "      <td>0.375</td>\n",
       "      <td>0.178125</td>\n",
       "      <td>high-calo</td>\n",
       "      <td>small-serving</td>\n",
       "    </tr>\n",
       "    <tr>\n",
       "      <th>4</th>\n",
       "      <td>Breakfast</td>\n",
       "      <td>Sausage McMuffin with Egg Whites</td>\n",
       "      <td>0.212766</td>\n",
       "      <td>0.198113</td>\n",
       "      <td>0.194915</td>\n",
       "      <td>0.192308</td>\n",
       "      <td>0.40</td>\n",
       "      <td>0.411765</td>\n",
       "      <td>0.0</td>\n",
       "      <td>0.086957</td>\n",
       "      <td>...</td>\n",
       "      <td>0.607143</td>\n",
       "      <td>0.015625</td>\n",
       "      <td>0.241379</td>\n",
       "      <td>0.035294</td>\n",
       "      <td>0.0</td>\n",
       "      <td>0.357143</td>\n",
       "      <td>0.250</td>\n",
       "      <td>0.178125</td>\n",
       "      <td>high-calo</td>\n",
       "      <td>small-serving</td>\n",
       "    </tr>\n",
       "  </tbody>\n",
       "</table>\n",
       "<p>5 rows × 26 columns</p>\n",
       "</div>"
      ],
      "text/plain": [
       "    category                              item  calories  calo_from_fat  \\\n",
       "0  Breakfast                      Egg McMuffin  0.159574       0.113208   \n",
       "1  Breakfast                 Egg White Delight  0.132979       0.066038   \n",
       "2  Breakfast                  Sausage McMuffin  0.196809       0.188679   \n",
       "3  Breakfast         Sausage McMuffin with Egg  0.239362       0.235849   \n",
       "4  Breakfast  Sausage McMuffin with Egg Whites  0.212766       0.198113   \n",
       "\n",
       "   total_fat  total_fat_dv  saturated_fat  saturated_fat_dv  trans_fat  \\\n",
       "0   0.110169      0.109890           0.25          0.245098        0.0   \n",
       "1   0.067797      0.065934           0.15          0.147059        0.0   \n",
       "2   0.194915      0.192308           0.40          0.411765        0.0   \n",
       "3   0.237288      0.236264           0.50          0.509804        0.0   \n",
       "4   0.194915      0.192308           0.40          0.411765        0.0   \n",
       "\n",
       "   cholesterol  ...  fiber_dv     sugar   protein  vitamin_a_dv  vitamin_c_dv  \\\n",
       "0     0.452174  ...  0.607143  0.023438  0.195402      0.058824           0.0   \n",
       "1     0.043478  ...  0.607143  0.023438  0.206897      0.035294           0.0   \n",
       "2     0.078261  ...  0.607143  0.015625  0.160920      0.047059           0.0   \n",
       "3     0.495652  ...  0.607143  0.015625  0.241379      0.088235           0.0   \n",
       "4     0.086957  ...  0.607143  0.015625  0.241379      0.035294           0.0   \n",
       "\n",
       "   calcium_dv  iron_dv  serving-size-st  caloric-binned  serving-binned  \n",
       "0    0.357143    0.375         0.150000        med-calo   small-serving  \n",
       "1    0.357143    0.200         0.150000        med-calo   small-serving  \n",
       "2    0.357143    0.250         0.121875       high-calo   small-serving  \n",
       "3    0.428571    0.375         0.178125       high-calo   small-serving  \n",
       "4    0.357143    0.250         0.178125       high-calo   small-serving  \n",
       "\n",
       "[5 rows x 26 columns]"
      ]
     },
     "execution_count": 88,
     "metadata": {},
     "output_type": "execute_result"
    }
   ],
   "source": [
    "mcd_data.iloc[:,2:-2] = mcd_data.iloc[:,2:-2].apply(lambda x: x/ x.max(), axis=0)\n",
    "\n",
    "mcd_data.head()"
   ]
  },
  {
   "cell_type": "markdown",
   "metadata": {},
   "source": [
    "### Addition Attribute"
   ]
  },
  {
   "cell_type": "code",
   "execution_count": 89,
   "metadata": {},
   "outputs": [],
   "source": [
    "# Adding 'mineral-content' attribute to the dataframe\n",
    "\n",
    "mcd_data['mineral-content_dv'] = mcd_data['vitamin_a_dv'] + mcd_data['vitamin_c_dv'] + mcd_data['calcium_dv'] + mcd_data['iron_dv']\n",
    "\n",
    "# Normalizing this attribute\n",
    "\n",
    "mcd_data['mineral-content_dv'] = mcd_data['mineral-content_dv']/ mcd_data['mineral-content_dv'].max()"
   ]
  },
  {
   "cell_type": "code",
   "execution_count": 90,
   "metadata": {},
   "outputs": [],
   "source": [
    "# add 'calories_dv' attribute to the dataframe\n",
    "\n",
    "mcd_data['calories_dv'] = (mcd_data['calories']*100)/2000\n",
    "\n",
    "# Normalizing this attribute\n",
    "\n",
    "mcd_data['calories_dv'] = mcd_data['calories_dv']/mcd_data['calories_dv'].max()"
   ]
  },
  {
   "cell_type": "markdown",
   "metadata": {},
   "source": [
    "## 5. Data Exploration & Visualization\n",
    "- Visualization Relationship and Correlation\n",
    "- Descriptive Statistic"
   ]
  },
  {
   "cell_type": "code",
   "execution_count": 93,
   "metadata": {},
   "outputs": [
    {
     "data": {
      "text/html": [
       "<div>\n",
       "<style scoped>\n",
       "    .dataframe tbody tr th:only-of-type {\n",
       "        vertical-align: middle;\n",
       "    }\n",
       "\n",
       "    .dataframe tbody tr th {\n",
       "        vertical-align: top;\n",
       "    }\n",
       "\n",
       "    .dataframe thead th {\n",
       "        text-align: right;\n",
       "    }\n",
       "</style>\n",
       "<table border=\"1\" class=\"dataframe\">\n",
       "  <thead>\n",
       "    <tr style=\"text-align: right;\">\n",
       "      <th></th>\n",
       "      <th>category</th>\n",
       "      <th>item</th>\n",
       "      <th>calories</th>\n",
       "      <th>calo_from_fat</th>\n",
       "      <th>total_fat</th>\n",
       "      <th>total_fat_dv</th>\n",
       "      <th>saturated_fat</th>\n",
       "      <th>saturated_fat_dv</th>\n",
       "      <th>trans_fat</th>\n",
       "      <th>cholesterol</th>\n",
       "      <th>...</th>\n",
       "      <th>protein</th>\n",
       "      <th>vitamin_a_dv</th>\n",
       "      <th>vitamin_c_dv</th>\n",
       "      <th>calcium_dv</th>\n",
       "      <th>iron_dv</th>\n",
       "      <th>serving-size-st</th>\n",
       "      <th>caloric-binned</th>\n",
       "      <th>serving-binned</th>\n",
       "      <th>mineral-content_dv</th>\n",
       "      <th>calories_dv</th>\n",
       "    </tr>\n",
       "  </thead>\n",
       "  <tbody>\n",
       "    <tr>\n",
       "      <th>0</th>\n",
       "      <td>Breakfast</td>\n",
       "      <td>Egg McMuffin</td>\n",
       "      <td>0.159574</td>\n",
       "      <td>0.113208</td>\n",
       "      <td>0.110169</td>\n",
       "      <td>0.109890</td>\n",
       "      <td>0.25</td>\n",
       "      <td>0.245098</td>\n",
       "      <td>0.0</td>\n",
       "      <td>0.452174</td>\n",
       "      <td>...</td>\n",
       "      <td>0.195402</td>\n",
       "      <td>0.058824</td>\n",
       "      <td>0.0</td>\n",
       "      <td>0.357143</td>\n",
       "      <td>0.375</td>\n",
       "      <td>0.150000</td>\n",
       "      <td>med-calo</td>\n",
       "      <td>small-serving</td>\n",
       "      <td>0.461397</td>\n",
       "      <td>0.159574</td>\n",
       "    </tr>\n",
       "    <tr>\n",
       "      <th>1</th>\n",
       "      <td>Breakfast</td>\n",
       "      <td>Egg White Delight</td>\n",
       "      <td>0.132979</td>\n",
       "      <td>0.066038</td>\n",
       "      <td>0.067797</td>\n",
       "      <td>0.065934</td>\n",
       "      <td>0.15</td>\n",
       "      <td>0.147059</td>\n",
       "      <td>0.0</td>\n",
       "      <td>0.043478</td>\n",
       "      <td>...</td>\n",
       "      <td>0.206897</td>\n",
       "      <td>0.035294</td>\n",
       "      <td>0.0</td>\n",
       "      <td>0.357143</td>\n",
       "      <td>0.200</td>\n",
       "      <td>0.150000</td>\n",
       "      <td>med-calo</td>\n",
       "      <td>small-serving</td>\n",
       "      <td>0.345588</td>\n",
       "      <td>0.132979</td>\n",
       "    </tr>\n",
       "    <tr>\n",
       "      <th>2</th>\n",
       "      <td>Breakfast</td>\n",
       "      <td>Sausage McMuffin</td>\n",
       "      <td>0.196809</td>\n",
       "      <td>0.188679</td>\n",
       "      <td>0.194915</td>\n",
       "      <td>0.192308</td>\n",
       "      <td>0.40</td>\n",
       "      <td>0.411765</td>\n",
       "      <td>0.0</td>\n",
       "      <td>0.078261</td>\n",
       "      <td>...</td>\n",
       "      <td>0.160920</td>\n",
       "      <td>0.047059</td>\n",
       "      <td>0.0</td>\n",
       "      <td>0.357143</td>\n",
       "      <td>0.250</td>\n",
       "      <td>0.121875</td>\n",
       "      <td>high-calo</td>\n",
       "      <td>small-serving</td>\n",
       "      <td>0.381618</td>\n",
       "      <td>0.196809</td>\n",
       "    </tr>\n",
       "    <tr>\n",
       "      <th>3</th>\n",
       "      <td>Breakfast</td>\n",
       "      <td>Sausage McMuffin with Egg</td>\n",
       "      <td>0.239362</td>\n",
       "      <td>0.235849</td>\n",
       "      <td>0.237288</td>\n",
       "      <td>0.236264</td>\n",
       "      <td>0.50</td>\n",
       "      <td>0.509804</td>\n",
       "      <td>0.0</td>\n",
       "      <td>0.495652</td>\n",
       "      <td>...</td>\n",
       "      <td>0.241379</td>\n",
       "      <td>0.088235</td>\n",
       "      <td>0.0</td>\n",
       "      <td>0.428571</td>\n",
       "      <td>0.375</td>\n",
       "      <td>0.178125</td>\n",
       "      <td>high-calo</td>\n",
       "      <td>small-serving</td>\n",
       "      <td>0.520221</td>\n",
       "      <td>0.239362</td>\n",
       "    </tr>\n",
       "    <tr>\n",
       "      <th>4</th>\n",
       "      <td>Breakfast</td>\n",
       "      <td>Sausage McMuffin with Egg Whites</td>\n",
       "      <td>0.212766</td>\n",
       "      <td>0.198113</td>\n",
       "      <td>0.194915</td>\n",
       "      <td>0.192308</td>\n",
       "      <td>0.40</td>\n",
       "      <td>0.411765</td>\n",
       "      <td>0.0</td>\n",
       "      <td>0.086957</td>\n",
       "      <td>...</td>\n",
       "      <td>0.241379</td>\n",
       "      <td>0.035294</td>\n",
       "      <td>0.0</td>\n",
       "      <td>0.357143</td>\n",
       "      <td>0.250</td>\n",
       "      <td>0.178125</td>\n",
       "      <td>high-calo</td>\n",
       "      <td>small-serving</td>\n",
       "      <td>0.374755</td>\n",
       "      <td>0.212766</td>\n",
       "    </tr>\n",
       "  </tbody>\n",
       "</table>\n",
       "<p>5 rows × 28 columns</p>\n",
       "</div>"
      ],
      "text/plain": [
       "    category                              item  calories  calo_from_fat  \\\n",
       "0  Breakfast                      Egg McMuffin  0.159574       0.113208   \n",
       "1  Breakfast                 Egg White Delight  0.132979       0.066038   \n",
       "2  Breakfast                  Sausage McMuffin  0.196809       0.188679   \n",
       "3  Breakfast         Sausage McMuffin with Egg  0.239362       0.235849   \n",
       "4  Breakfast  Sausage McMuffin with Egg Whites  0.212766       0.198113   \n",
       "\n",
       "   total_fat  total_fat_dv  saturated_fat  saturated_fat_dv  trans_fat  \\\n",
       "0   0.110169      0.109890           0.25          0.245098        0.0   \n",
       "1   0.067797      0.065934           0.15          0.147059        0.0   \n",
       "2   0.194915      0.192308           0.40          0.411765        0.0   \n",
       "3   0.237288      0.236264           0.50          0.509804        0.0   \n",
       "4   0.194915      0.192308           0.40          0.411765        0.0   \n",
       "\n",
       "   cholesterol  ...   protein  vitamin_a_dv  vitamin_c_dv  calcium_dv  \\\n",
       "0     0.452174  ...  0.195402      0.058824           0.0    0.357143   \n",
       "1     0.043478  ...  0.206897      0.035294           0.0    0.357143   \n",
       "2     0.078261  ...  0.160920      0.047059           0.0    0.357143   \n",
       "3     0.495652  ...  0.241379      0.088235           0.0    0.428571   \n",
       "4     0.086957  ...  0.241379      0.035294           0.0    0.357143   \n",
       "\n",
       "   iron_dv  serving-size-st  caloric-binned  serving-binned  \\\n",
       "0    0.375         0.150000        med-calo   small-serving   \n",
       "1    0.200         0.150000        med-calo   small-serving   \n",
       "2    0.250         0.121875       high-calo   small-serving   \n",
       "3    0.375         0.178125       high-calo   small-serving   \n",
       "4    0.250         0.178125       high-calo   small-serving   \n",
       "\n",
       "   mineral-content_dv  calories_dv  \n",
       "0            0.461397     0.159574  \n",
       "1            0.345588     0.132979  \n",
       "2            0.381618     0.196809  \n",
       "3            0.520221     0.239362  \n",
       "4            0.374755     0.212766  \n",
       "\n",
       "[5 rows x 28 columns]"
      ]
     },
     "execution_count": 93,
     "metadata": {},
     "output_type": "execute_result"
    }
   ],
   "source": [
    "mcd_data.head()"
   ]
  },
  {
   "cell_type": "markdown",
   "metadata": {},
   "source": [
    "### Visulization Data"
   ]
  },
  {
   "cell_type": "markdown",
   "metadata": {},
   "source": [
    "#### Categorical Variable\n",
    "\n",
    "Using boxplot for visulization of relationship between categorical variables and others"
   ]
  },
  {
   "cell_type": "code",
   "execution_count": 92,
   "metadata": {},
   "outputs": [
    {
     "data": {
      "text/plain": [
       "[Text(0.5, 1.0, 'Relationship Between Calories and Sodium Content')]"
      ]
     },
     "execution_count": 92,
     "metadata": {},
     "output_type": "execute_result"
    },
    {
     "data": {
      "image/png": "[encoded data removed]",
      "text/plain": [
       "<Figure size 640x480 with 1 Axes>"
      ]
     },
     "metadata": {},
     "output_type": "display_data"
    }
   ],
   "source": [
    "sns.boxplot(x='caloric-binned', y='sodium', data=mcd_data).set(title='Relationship Between Calories and Sodium Content')"
   ]
  },
  {
   "cell_type": "markdown",
   "metadata": {},
   "source": [
    "Caloric content might be a good predictor for the sodium content in McDonald's food"
   ]
  },
  {
   "cell_type": "code",
   "execution_count": 31,
   "metadata": {},
   "outputs": [
    {
     "data": {
      "text/plain": [
       "[Text(0.5, 1.0, 'Serving Portion and Caloric Content')]"
      ]
     },
     "execution_count": 31,
     "metadata": {},
     "output_type": "execute_result"
    },
    {
     "data": {
      "image/png": "[encoded data removed]",
      "text/plain": [
       "<Figure size 640x480 with 1 Axes>"
      ]
     },
     "metadata": {},
     "output_type": "display_data"
    }
   ],
   "source": [
    "sns.boxplot(x='serving-binned', y='calories', data=mcd_data).set(title='Serving Portion and Caloric Content')"
   ]
  },
  {
   "cell_type": "markdown",
   "metadata": {},
   "source": [
    "<p> We see that the distributions of price between the different serving size categories have a significant overlap, so serving size would not be a good predictor of calories amount in food.</p>\n",
    "<p> Be careful when think that 'a peice of McDonald's cake won't hurt'!!! >< </p>"
   ]
  },
  {
   "cell_type": "markdown",
   "metadata": {},
   "source": [
    "#### Continuous Numerical Variable\n",
    "\n",
    "A great way to visualize these variables is by using scatterplots with fitted lines.\n"
   ]
  },
  {
   "cell_type": "code",
   "execution_count": 73,
   "metadata": {},
   "outputs": [
    {
     "data": {
      "image/png": "[encoded data removed]",
      "text/plain": [
       "<Figure size 640x480 with 1 Axes>"
      ]
     },
     "metadata": {},
     "output_type": "display_data"
    }
   ],
   "source": [
    "# The correlation between protein and calories in McDonald's menu\n",
    "\n",
    "x = mcd_data['calories']\n",
    "y = mcd_data['protein']\n",
    "\n",
    "plt.pyplot.scatter(x,y)\n",
    "\n",
    "plt.pyplot.title('Scatterplot of Caloric-Content vs Protein-Content')\n",
    "plt.pyplot.xlabel('Caloric-Content')\n",
    "plt.pyplot.ylabel('Protein-Content')\n",
    "plt.pyplot.show()"
   ]
  },
  {
   "cell_type": "markdown",
   "metadata": {},
   "source": [
    "Calories amount might be a good predictor for protein amount. We can check their correlation"
   ]
  },
  {
   "cell_type": "code",
   "execution_count": 39,
   "metadata": {},
   "outputs": [
    {
     "data": {
      "text/html": [
       "<div>\n",
       "<style scoped>\n",
       "    .dataframe tbody tr th:only-of-type {\n",
       "        vertical-align: middle;\n",
       "    }\n",
       "\n",
       "    .dataframe tbody tr th {\n",
       "        vertical-align: top;\n",
       "    }\n",
       "\n",
       "    .dataframe thead th {\n",
       "        text-align: right;\n",
       "    }\n",
       "</style>\n",
       "<table border=\"1\" class=\"dataframe\">\n",
       "  <thead>\n",
       "    <tr style=\"text-align: right;\">\n",
       "      <th></th>\n",
       "      <th>calories</th>\n",
       "      <th>protein</th>\n",
       "    </tr>\n",
       "  </thead>\n",
       "  <tbody>\n",
       "    <tr>\n",
       "      <th>calories</th>\n",
       "      <td>1.000000</td>\n",
       "      <td>0.787847</td>\n",
       "    </tr>\n",
       "    <tr>\n",
       "      <th>protein</th>\n",
       "      <td>0.787847</td>\n",
       "      <td>1.000000</td>\n",
       "    </tr>\n",
       "  </tbody>\n",
       "</table>\n",
       "</div>"
      ],
      "text/plain": [
       "          calories   protein\n",
       "calories  1.000000  0.787847\n",
       "protein   0.787847  1.000000"
      ]
     },
     "execution_count": 39,
     "metadata": {},
     "output_type": "execute_result"
    }
   ],
   "source": [
    "mcd_data[['calories', 'protein']].corr()"
   ]
  },
  {
   "cell_type": "code",
   "execution_count": 76,
   "metadata": {},
   "outputs": [
    {
     "data": {
      "image/png": "[encoded data removed]",
      "text/plain": [
       "<Figure size 640x480 with 1 Axes>"
      ]
     },
     "metadata": {},
     "output_type": "display_data"
    }
   ],
   "source": [
    "x = mcd_data['serving-size-st']\n",
    "y = mcd_data['protein']\n",
    "\n",
    "plt.pyplot.scatter(x,y)\n",
    "\n",
    "plt.pyplot.title('Scatterplot of Serving Size vs Protein-Content')\n",
    "plt.pyplot.xlabel('Serving-Size')\n",
    "plt.pyplot.ylabel('Protein-Content')\n",
    "plt.pyplot.show()"
   ]
  },
  {
   "cell_type": "markdown",
   "metadata": {},
   "source": [
    "But serving size might not, by observing from ther graph we assume that it is not the case that the more calories you eat the more protein you're getting.  \n",
    "We verify our assumption by their correlation."
   ]
  },
  {
   "cell_type": "code",
   "execution_count": 41,
   "metadata": {},
   "outputs": [
    {
     "data": {
      "text/html": [
       "<div>\n",
       "<style scoped>\n",
       "    .dataframe tbody tr th:only-of-type {\n",
       "        vertical-align: middle;\n",
       "    }\n",
       "\n",
       "    .dataframe tbody tr th {\n",
       "        vertical-align: top;\n",
       "    }\n",
       "\n",
       "    .dataframe thead th {\n",
       "        text-align: right;\n",
       "    }\n",
       "</style>\n",
       "<table border=\"1\" class=\"dataframe\">\n",
       "  <thead>\n",
       "    <tr style=\"text-align: right;\">\n",
       "      <th></th>\n",
       "      <th>serving-size-st</th>\n",
       "      <th>protein</th>\n",
       "    </tr>\n",
       "  </thead>\n",
       "  <tbody>\n",
       "    <tr>\n",
       "      <th>serving-size-st</th>\n",
       "      <td>1.000000</td>\n",
       "      <td>-0.253087</td>\n",
       "    </tr>\n",
       "    <tr>\n",
       "      <th>protein</th>\n",
       "      <td>-0.253087</td>\n",
       "      <td>1.000000</td>\n",
       "    </tr>\n",
       "  </tbody>\n",
       "</table>\n",
       "</div>"
      ],
      "text/plain": [
       "                 serving-size-st   protein\n",
       "serving-size-st         1.000000 -0.253087\n",
       "protein                -0.253087  1.000000"
      ]
     },
     "execution_count": 41,
     "metadata": {},
     "output_type": "execute_result"
    }
   ],
   "source": [
    "mcd_data[['serving-size-st', 'protein']].corr()"
   ]
  },
  {
   "cell_type": "markdown",
   "metadata": {},
   "source": [
    "Group 'category' and 'serving size' to get the avg calories amount contain in each group"
   ]
  },
  {
   "cell_type": "code",
   "execution_count": 42,
   "metadata": {},
   "outputs": [
    {
     "name": "stderr",
     "output_type": "stream",
     "text": [
      "C:\\Users\\aDMIN\\AppData\\Local\\Temp\\ipykernel_4896\\765854228.py:2: FutureWarning: The default of observed=False is deprecated and will be changed to True in a future version of pandas. Pass observed=False to retain current behavior or observed=True to adopt the future default and silence this warning.\n",
      "  df_grp = df_test.groupby(['category', 'serving-binned'], as_index=False).mean()\n"
     ]
    },
    {
     "data": {
      "text/html": [
       "<div>\n",
       "<style scoped>\n",
       "    .dataframe tbody tr th:only-of-type {\n",
       "        vertical-align: middle;\n",
       "    }\n",
       "\n",
       "    .dataframe tbody tr th {\n",
       "        vertical-align: top;\n",
       "    }\n",
       "\n",
       "    .dataframe thead th {\n",
       "        text-align: right;\n",
       "    }\n",
       "</style>\n",
       "<table border=\"1\" class=\"dataframe\">\n",
       "  <thead>\n",
       "    <tr style=\"text-align: right;\">\n",
       "      <th></th>\n",
       "      <th>category</th>\n",
       "      <th>serving-binned</th>\n",
       "      <th>calories</th>\n",
       "    </tr>\n",
       "  </thead>\n",
       "  <tbody>\n",
       "    <tr>\n",
       "      <th>0</th>\n",
       "      <td>Beef &amp; Pork</td>\n",
       "      <td>small-serving</td>\n",
       "      <td>0.231625</td>\n",
       "    </tr>\n",
       "    <tr>\n",
       "      <th>1</th>\n",
       "      <td>Beef &amp; Pork</td>\n",
       "      <td>med-serving</td>\n",
       "      <td>0.348404</td>\n",
       "    </tr>\n",
       "    <tr>\n",
       "      <th>2</th>\n",
       "      <td>Beef &amp; Pork</td>\n",
       "      <td>large-serving</td>\n",
       "      <td>NaN</td>\n",
       "    </tr>\n",
       "  </tbody>\n",
       "</table>\n",
       "</div>"
      ],
      "text/plain": [
       "      category serving-binned  calories\n",
       "0  Beef & Pork  small-serving  0.231625\n",
       "1  Beef & Pork    med-serving  0.348404\n",
       "2  Beef & Pork  large-serving       NaN"
      ]
     },
     "execution_count": 42,
     "metadata": {},
     "output_type": "execute_result"
    }
   ],
   "source": [
    "df_test = mcd_data[['category', 'serving-binned', 'calories']]\n",
    "df_grp = df_test.groupby(['category', 'serving-binned'], as_index=False).mean()\n",
    "\n",
    "df_grp.head(3)"
   ]
  },
  {
   "cell_type": "code",
   "execution_count": 35,
   "metadata": {},
   "outputs": [
    {
     "data": {
      "text/plain": [
       "category          0\n",
       "serving-binned    0\n",
       "calories          8\n",
       "dtype: int64"
      ]
     },
     "execution_count": 35,
     "metadata": {},
     "output_type": "execute_result"
    }
   ],
   "source": [
    "df_grp.isnull().sum()"
   ]
  },
  {
   "cell_type": "code",
   "execution_count": 36,
   "metadata": {},
   "outputs": [
    {
     "data": {
      "text/html": [
       "<div>\n",
       "<style scoped>\n",
       "    .dataframe tbody tr th:only-of-type {\n",
       "        vertical-align: middle;\n",
       "    }\n",
       "\n",
       "    .dataframe tbody tr th {\n",
       "        vertical-align: top;\n",
       "    }\n",
       "\n",
       "    .dataframe thead th {\n",
       "        text-align: right;\n",
       "    }\n",
       "</style>\n",
       "<table border=\"1\" class=\"dataframe\">\n",
       "  <thead>\n",
       "    <tr style=\"text-align: right;\">\n",
       "      <th></th>\n",
       "      <th>category</th>\n",
       "      <th>serving-binned</th>\n",
       "      <th>calories</th>\n",
       "    </tr>\n",
       "  </thead>\n",
       "  <tbody>\n",
       "    <tr>\n",
       "      <th>0</th>\n",
       "      <td>Beef &amp; Pork</td>\n",
       "      <td>small-serving</td>\n",
       "      <td>0.231625</td>\n",
       "    </tr>\n",
       "    <tr>\n",
       "      <th>1</th>\n",
       "      <td>Beef &amp; Pork</td>\n",
       "      <td>med-serving</td>\n",
       "      <td>0.348404</td>\n",
       "    </tr>\n",
       "    <tr>\n",
       "      <th>3</th>\n",
       "      <td>Beverages</td>\n",
       "      <td>small-serving</td>\n",
       "      <td>0.054965</td>\n",
       "    </tr>\n",
       "    <tr>\n",
       "      <th>4</th>\n",
       "      <td>Beverages</td>\n",
       "      <td>med-serving</td>\n",
       "      <td>0.046986</td>\n",
       "    </tr>\n",
       "    <tr>\n",
       "      <th>5</th>\n",
       "      <td>Beverages</td>\n",
       "      <td>large-serving</td>\n",
       "      <td>0.075355</td>\n",
       "    </tr>\n",
       "  </tbody>\n",
       "</table>\n",
       "</div>"
      ],
      "text/plain": [
       "      category serving-binned  calories\n",
       "0  Beef & Pork  small-serving  0.231625\n",
       "1  Beef & Pork    med-serving  0.348404\n",
       "3    Beverages  small-serving  0.054965\n",
       "4    Beverages    med-serving  0.046986\n",
       "5    Beverages  large-serving  0.075355"
      ]
     },
     "execution_count": 36,
     "metadata": {},
     "output_type": "execute_result"
    }
   ],
   "source": [
    "df_grp.dropna(axis=0, inplace=True)\n",
    "df_grp.head()"
   ]
  },
  {
   "cell_type": "code",
   "execution_count": 43,
   "metadata": {},
   "outputs": [],
   "source": [
    "df_pivot = df_grp.pivot(index='serving-binned', columns='category')"
   ]
  },
  {
   "cell_type": "code",
   "execution_count": 44,
   "metadata": {},
   "outputs": [
    {
     "name": "stderr",
     "output_type": "stream",
     "text": [
      "C:\\Users\\aDMIN\\AppData\\Local\\Temp\\ipykernel_4896\\801932618.py:2: MatplotlibDeprecationWarning: Getting the array from a PolyQuadMesh will return the full array in the future (uncompressed). To get this behavior now set the PolyQuadMesh with a 2D array .set_array(data2d).\n",
      "  plt.pyplot.colorbar()\n"
     ]
    },
    {
     "data": {
      "image/png": "[encoded data removed]",
      "text/plain": [
       "<Figure size 640x480 with 2 Axes>"
      ]
     },
     "metadata": {},
     "output_type": "display_data"
    }
   ],
   "source": [
    "plt.pyplot.pcolor(df_pivot, cmap='RdBu')\n",
    "plt.pyplot.colorbar()\n",
    "plt.pyplot.show()"
   ]
  },
  {
   "cell_type": "markdown",
   "metadata": {},
   "source": [
    "### Descriptive Statistic\n",
    "- Basic Statistic\n",
    "- Pearson Correlation"
   ]
  },
  {
   "cell_type": "code",
   "execution_count": 48,
   "metadata": {},
   "outputs": [
    {
     "data": {
      "text/html": [
       "<div>\n",
       "<style scoped>\n",
       "    .dataframe tbody tr th:only-of-type {\n",
       "        vertical-align: middle;\n",
       "    }\n",
       "\n",
       "    .dataframe tbody tr th {\n",
       "        vertical-align: top;\n",
       "    }\n",
       "\n",
       "    .dataframe thead th {\n",
       "        text-align: right;\n",
       "    }\n",
       "</style>\n",
       "<table border=\"1\" class=\"dataframe\">\n",
       "  <thead>\n",
       "    <tr style=\"text-align: right;\">\n",
       "      <th></th>\n",
       "      <th>category</th>\n",
       "      <th>item</th>\n",
       "      <th>calories</th>\n",
       "      <th>calo_from_fat</th>\n",
       "      <th>total_fat</th>\n",
       "      <th>total_fat_dv</th>\n",
       "      <th>saturated_fat</th>\n",
       "      <th>saturated_fat_dv</th>\n",
       "      <th>trans_fat</th>\n",
       "      <th>cholesterol</th>\n",
       "      <th>...</th>\n",
       "      <th>sugar</th>\n",
       "      <th>protein</th>\n",
       "      <th>vitamin_a_dv</th>\n",
       "      <th>vitamin_c_dv</th>\n",
       "      <th>calcium_dv</th>\n",
       "      <th>iron_dv</th>\n",
       "      <th>serving-size-st</th>\n",
       "      <th>caloric-binned</th>\n",
       "      <th>serving-binned</th>\n",
       "      <th>mineral-content_dv</th>\n",
       "    </tr>\n",
       "  </thead>\n",
       "  <tbody>\n",
       "    <tr>\n",
       "      <th>count</th>\n",
       "      <td>260</td>\n",
       "      <td>260</td>\n",
       "      <td>260.000000</td>\n",
       "      <td>260.000000</td>\n",
       "      <td>260.000000</td>\n",
       "      <td>260.000000</td>\n",
       "      <td>260.000000</td>\n",
       "      <td>260.000000</td>\n",
       "      <td>260.000000</td>\n",
       "      <td>260.000000</td>\n",
       "      <td>...</td>\n",
       "      <td>260.000000</td>\n",
       "      <td>260.000000</td>\n",
       "      <td>260.000000</td>\n",
       "      <td>260.000000</td>\n",
       "      <td>260.000000</td>\n",
       "      <td>260.000000</td>\n",
       "      <td>260.000000</td>\n",
       "      <td>260</td>\n",
       "      <td>260</td>\n",
       "      <td>260.000000</td>\n",
       "    </tr>\n",
       "    <tr>\n",
       "      <th>unique</th>\n",
       "      <td>9</td>\n",
       "      <td>260</td>\n",
       "      <td>NaN</td>\n",
       "      <td>NaN</td>\n",
       "      <td>NaN</td>\n",
       "      <td>NaN</td>\n",
       "      <td>NaN</td>\n",
       "      <td>NaN</td>\n",
       "      <td>NaN</td>\n",
       "      <td>NaN</td>\n",
       "      <td>...</td>\n",
       "      <td>NaN</td>\n",
       "      <td>NaN</td>\n",
       "      <td>NaN</td>\n",
       "      <td>NaN</td>\n",
       "      <td>NaN</td>\n",
       "      <td>NaN</td>\n",
       "      <td>NaN</td>\n",
       "      <td>3</td>\n",
       "      <td>3</td>\n",
       "      <td>NaN</td>\n",
       "    </tr>\n",
       "    <tr>\n",
       "      <th>top</th>\n",
       "      <td>Coffee &amp; Tea</td>\n",
       "      <td>Egg McMuffin</td>\n",
       "      <td>NaN</td>\n",
       "      <td>NaN</td>\n",
       "      <td>NaN</td>\n",
       "      <td>NaN</td>\n",
       "      <td>NaN</td>\n",
       "      <td>NaN</td>\n",
       "      <td>NaN</td>\n",
       "      <td>NaN</td>\n",
       "      <td>...</td>\n",
       "      <td>NaN</td>\n",
       "      <td>NaN</td>\n",
       "      <td>NaN</td>\n",
       "      <td>NaN</td>\n",
       "      <td>NaN</td>\n",
       "      <td>NaN</td>\n",
       "      <td>NaN</td>\n",
       "      <td>high-calo</td>\n",
       "      <td>med-serving</td>\n",
       "      <td>NaN</td>\n",
       "    </tr>\n",
       "    <tr>\n",
       "      <th>freq</th>\n",
       "      <td>95</td>\n",
       "      <td>1</td>\n",
       "      <td>NaN</td>\n",
       "      <td>NaN</td>\n",
       "      <td>NaN</td>\n",
       "      <td>NaN</td>\n",
       "      <td>NaN</td>\n",
       "      <td>NaN</td>\n",
       "      <td>NaN</td>\n",
       "      <td>NaN</td>\n",
       "      <td>...</td>\n",
       "      <td>NaN</td>\n",
       "      <td>NaN</td>\n",
       "      <td>NaN</td>\n",
       "      <td>NaN</td>\n",
       "      <td>NaN</td>\n",
       "      <td>NaN</td>\n",
       "      <td>NaN</td>\n",
       "      <td>144</td>\n",
       "      <td>121</td>\n",
       "      <td>NaN</td>\n",
       "    </tr>\n",
       "    <tr>\n",
       "      <th>mean</th>\n",
       "      <td>NaN</td>\n",
       "      <td>NaN</td>\n",
       "      <td>0.195888</td>\n",
       "      <td>0.119902</td>\n",
       "      <td>0.120046</td>\n",
       "      <td>0.119865</td>\n",
       "      <td>0.300385</td>\n",
       "      <td>0.293778</td>\n",
       "      <td>0.081538</td>\n",
       "      <td>0.095552</td>\n",
       "      <td>...</td>\n",
       "      <td>0.229868</td>\n",
       "      <td>0.153316</td>\n",
       "      <td>0.078982</td>\n",
       "      <td>0.035561</td>\n",
       "      <td>0.299615</td>\n",
       "      <td>0.193365</td>\n",
       "      <td>0.401813</td>\n",
       "      <td>NaN</td>\n",
       "      <td>NaN</td>\n",
       "      <td>0.354389</td>\n",
       "    </tr>\n",
       "    <tr>\n",
       "      <th>std</th>\n",
       "      <td>NaN</td>\n",
       "      <td>NaN</td>\n",
       "      <td>0.127803</td>\n",
       "      <td>0.120638</td>\n",
       "      <td>0.120390</td>\n",
       "      <td>0.120248</td>\n",
       "      <td>0.266094</td>\n",
       "      <td>0.261169</td>\n",
       "      <td>0.171653</td>\n",
       "      <td>0.151773</td>\n",
       "      <td>...</td>\n",
       "      <td>0.224061</td>\n",
       "      <td>0.131335</td>\n",
       "      <td>0.143332</td>\n",
       "      <td>0.109773</td>\n",
       "      <td>0.243142</td>\n",
       "      <td>0.218082</td>\n",
       "      <td>0.218387</td>\n",
       "      <td>NaN</td>\n",
       "      <td>NaN</td>\n",
       "      <td>0.229469</td>\n",
       "    </tr>\n",
       "    <tr>\n",
       "      <th>min</th>\n",
       "      <td>NaN</td>\n",
       "      <td>NaN</td>\n",
       "      <td>0.000000</td>\n",
       "      <td>0.000000</td>\n",
       "      <td>0.000000</td>\n",
       "      <td>0.000000</td>\n",
       "      <td>0.000000</td>\n",
       "      <td>0.000000</td>\n",
       "      <td>0.000000</td>\n",
       "      <td>0.000000</td>\n",
       "      <td>...</td>\n",
       "      <td>0.000000</td>\n",
       "      <td>0.000000</td>\n",
       "      <td>0.000000</td>\n",
       "      <td>0.000000</td>\n",
       "      <td>0.000000</td>\n",
       "      <td>0.000000</td>\n",
       "      <td>0.031250</td>\n",
       "      <td>NaN</td>\n",
       "      <td>NaN</td>\n",
       "      <td>0.000000</td>\n",
       "    </tr>\n",
       "    <tr>\n",
       "      <th>25%</th>\n",
       "      <td>NaN</td>\n",
       "      <td>NaN</td>\n",
       "      <td>0.111702</td>\n",
       "      <td>0.018868</td>\n",
       "      <td>0.020127</td>\n",
       "      <td>0.020604</td>\n",
       "      <td>0.050000</td>\n",
       "      <td>0.046569</td>\n",
       "      <td>0.000000</td>\n",
       "      <td>0.008696</td>\n",
       "      <td>...</td>\n",
       "      <td>0.044922</td>\n",
       "      <td>0.045977</td>\n",
       "      <td>0.011765</td>\n",
       "      <td>0.000000</td>\n",
       "      <td>0.085714</td>\n",
       "      <td>0.000000</td>\n",
       "      <td>0.217969</td>\n",
       "      <td>NaN</td>\n",
       "      <td>NaN</td>\n",
       "      <td>0.208512</td>\n",
       "    </tr>\n",
       "    <tr>\n",
       "      <th>50%</th>\n",
       "      <td>NaN</td>\n",
       "      <td>NaN</td>\n",
       "      <td>0.180851</td>\n",
       "      <td>0.094340</td>\n",
       "      <td>0.093220</td>\n",
       "      <td>0.093407</td>\n",
       "      <td>0.250000</td>\n",
       "      <td>0.235294</td>\n",
       "      <td>0.000000</td>\n",
       "      <td>0.060870</td>\n",
       "      <td>...</td>\n",
       "      <td>0.136719</td>\n",
       "      <td>0.137931</td>\n",
       "      <td>0.047059</td>\n",
       "      <td>0.000000</td>\n",
       "      <td>0.285714</td>\n",
       "      <td>0.100000</td>\n",
       "      <td>0.375000</td>\n",
       "      <td>NaN</td>\n",
       "      <td>NaN</td>\n",
       "      <td>0.353799</td>\n",
       "    </tr>\n",
       "    <tr>\n",
       "      <th>75%</th>\n",
       "      <td>NaN</td>\n",
       "      <td>NaN</td>\n",
       "      <td>0.265957</td>\n",
       "      <td>0.188679</td>\n",
       "      <td>0.188559</td>\n",
       "      <td>0.192308</td>\n",
       "      <td>0.500000</td>\n",
       "      <td>0.470588</td>\n",
       "      <td>0.000000</td>\n",
       "      <td>0.113043</td>\n",
       "      <td>...</td>\n",
       "      <td>0.375000</td>\n",
       "      <td>0.218391</td>\n",
       "      <td>0.088235</td>\n",
       "      <td>0.016667</td>\n",
       "      <td>0.428571</td>\n",
       "      <td>0.375000</td>\n",
       "      <td>0.500000</td>\n",
       "      <td>NaN</td>\n",
       "      <td>NaN</td>\n",
       "      <td>0.502083</td>\n",
       "    </tr>\n",
       "    <tr>\n",
       "      <th>max</th>\n",
       "      <td>NaN</td>\n",
       "      <td>NaN</td>\n",
       "      <td>1.000000</td>\n",
       "      <td>1.000000</td>\n",
       "      <td>1.000000</td>\n",
       "      <td>1.000000</td>\n",
       "      <td>1.000000</td>\n",
       "      <td>1.000000</td>\n",
       "      <td>1.000000</td>\n",
       "      <td>1.000000</td>\n",
       "      <td>...</td>\n",
       "      <td>1.000000</td>\n",
       "      <td>1.000000</td>\n",
       "      <td>1.000000</td>\n",
       "      <td>1.000000</td>\n",
       "      <td>1.000000</td>\n",
       "      <td>1.000000</td>\n",
       "      <td>1.000000</td>\n",
       "      <td>NaN</td>\n",
       "      <td>NaN</td>\n",
       "      <td>1.000000</td>\n",
       "    </tr>\n",
       "  </tbody>\n",
       "</table>\n",
       "<p>11 rows × 27 columns</p>\n",
       "</div>"
      ],
      "text/plain": [
       "            category          item    calories  calo_from_fat   total_fat  \\\n",
       "count            260           260  260.000000     260.000000  260.000000   \n",
       "unique             9           260         NaN            NaN         NaN   \n",
       "top     Coffee & Tea  Egg McMuffin         NaN            NaN         NaN   \n",
       "freq              95             1         NaN            NaN         NaN   \n",
       "mean             NaN           NaN    0.195888       0.119902    0.120046   \n",
       "std              NaN           NaN    0.127803       0.120638    0.120390   \n",
       "min              NaN           NaN    0.000000       0.000000    0.000000   \n",
       "25%              NaN           NaN    0.111702       0.018868    0.020127   \n",
       "50%              NaN           NaN    0.180851       0.094340    0.093220   \n",
       "75%              NaN           NaN    0.265957       0.188679    0.188559   \n",
       "max              NaN           NaN    1.000000       1.000000    1.000000   \n",
       "\n",
       "        total_fat_dv  saturated_fat  saturated_fat_dv   trans_fat  \\\n",
       "count     260.000000     260.000000        260.000000  260.000000   \n",
       "unique           NaN            NaN               NaN         NaN   \n",
       "top              NaN            NaN               NaN         NaN   \n",
       "freq             NaN            NaN               NaN         NaN   \n",
       "mean        0.119865       0.300385          0.293778    0.081538   \n",
       "std         0.120248       0.266094          0.261169    0.171653   \n",
       "min         0.000000       0.000000          0.000000    0.000000   \n",
       "25%         0.020604       0.050000          0.046569    0.000000   \n",
       "50%         0.093407       0.250000          0.235294    0.000000   \n",
       "75%         0.192308       0.500000          0.470588    0.000000   \n",
       "max         1.000000       1.000000          1.000000    1.000000   \n",
       "\n",
       "        cholesterol  ...       sugar     protein  vitamin_a_dv  vitamin_c_dv  \\\n",
       "count    260.000000  ...  260.000000  260.000000    260.000000    260.000000   \n",
       "unique          NaN  ...         NaN         NaN           NaN           NaN   \n",
       "top             NaN  ...         NaN         NaN           NaN           NaN   \n",
       "freq            NaN  ...         NaN         NaN           NaN           NaN   \n",
       "mean       0.095552  ...    0.229868    0.153316      0.078982      0.035561   \n",
       "std        0.151773  ...    0.224061    0.131335      0.143332      0.109773   \n",
       "min        0.000000  ...    0.000000    0.000000      0.000000      0.000000   \n",
       "25%        0.008696  ...    0.044922    0.045977      0.011765      0.000000   \n",
       "50%        0.060870  ...    0.136719    0.137931      0.047059      0.000000   \n",
       "75%        0.113043  ...    0.375000    0.218391      0.088235      0.016667   \n",
       "max        1.000000  ...    1.000000    1.000000      1.000000      1.000000   \n",
       "\n",
       "        calcium_dv     iron_dv  serving-size-st  caloric-binned  \\\n",
       "count   260.000000  260.000000       260.000000             260   \n",
       "unique         NaN         NaN              NaN               3   \n",
       "top            NaN         NaN              NaN       high-calo   \n",
       "freq           NaN         NaN              NaN             144   \n",
       "mean      0.299615    0.193365         0.401813             NaN   \n",
       "std       0.243142    0.218082         0.218387             NaN   \n",
       "min       0.000000    0.000000         0.031250             NaN   \n",
       "25%       0.085714    0.000000         0.217969             NaN   \n",
       "50%       0.285714    0.100000         0.375000             NaN   \n",
       "75%       0.428571    0.375000         0.500000             NaN   \n",
       "max       1.000000    1.000000         1.000000             NaN   \n",
       "\n",
       "        serving-binned  mineral-content_dv  \n",
       "count              260          260.000000  \n",
       "unique               3                 NaN  \n",
       "top        med-serving                 NaN  \n",
       "freq               121                 NaN  \n",
       "mean               NaN            0.354389  \n",
       "std                NaN            0.229469  \n",
       "min                NaN            0.000000  \n",
       "25%                NaN            0.208512  \n",
       "50%                NaN            0.353799  \n",
       "75%                NaN            0.502083  \n",
       "max                NaN            1.000000  \n",
       "\n",
       "[11 rows x 27 columns]"
      ]
     },
     "execution_count": 48,
     "metadata": {},
     "output_type": "execute_result"
    }
   ],
   "source": [
    "mcd_data.describe(include='all')"
   ]
  },
  {
   "cell_type": "markdown",
   "metadata": {},
   "source": [
    "**Peason Correlation**\n",
    "\n",
    "Let's calculate the  Pearson Correlation Coefficient and P-value of 'mineral-content_dv' and 'calories_dv'."
   ]
  },
  {
   "cell_type": "code",
   "execution_count": 52,
   "metadata": {},
   "outputs": [],
   "source": [
    "from scipy import stats"
   ]
  },
  {
   "cell_type": "code",
   "execution_count": 53,
   "metadata": {},
   "outputs": [
    {
     "name": "stdout",
     "output_type": "stream",
     "text": [
      "The Pearson Correlation Coefficient is 0.6420581338576866  with a P-value of P = 1.2963354098349615e-31\n"
     ]
    }
   ],
   "source": [
    "pearson_coef, p_value = stats.pearsonr(mcd_data['mineral-content_dv'], mcd_data['calories_dv'])\n",
    "print(\"The Pearson Correlation Coefficient is\", pearson_coef, \" with a P-value of P =\", p_value)  "
   ]
  },
  {
   "cell_type": "markdown",
   "metadata": {},
   "source": [
    "Since the P-value indicates a very small value (close to 0) and the Pearson Correlation Coefficient is ~0,642, it is a strong certainty that these 2 attributes have a medium-large positive relationship"
   ]
  },
  {
   "cell_type": "code",
   "execution_count": 54,
   "metadata": {},
   "outputs": [
    {
     "data": {
      "image/png": "[encoded data removed]",
      "text/plain": [
       "<Figure size 640x480 with 1 Axes>"
      ]
     },
     "metadata": {},
     "output_type": "display_data"
    }
   ],
   "source": [
    "x = mcd_data['calories_dv']\n",
    "y = mcd_data['mineral-content_dv']\n",
    "\n",
    "plt.pyplot.scatter(x,y)\n",
    "\n",
    "plt.pyplot.title('Scatterplot of Daily Value of Calories vs Daily Value of Mineral')\n",
    "plt.pyplot.xlabel('Calories DV')\n",
    "plt.pyplot.ylabel('Mineral DV')\n",
    "plt.pyplot.show()"
   ]
  },
  {
   "cell_type": "markdown",
   "metadata": {},
   "source": [
    "## 6. Regression Analysis"
   ]
  },
  {
   "cell_type": "code",
   "execution_count": 56,
   "metadata": {},
   "outputs": [],
   "source": [
    "from sklearn.linear_model import LinearRegression\n",
    "\n",
    "lm = LinearRegression()\n",
    "\n",
    "x = mcd_data[['calories']]\n",
    "y = mcd_data[['protein']]\n",
    "\n",
    "lm.fit(x,y)\n",
    "\n",
    "yhat = lm.predict(x)"
   ]
  },
  {
   "cell_type": "code",
   "execution_count": 57,
   "metadata": {},
   "outputs": [
    {
     "data": {
      "text/plain": [
       "(0.0, 1.0511439421650466)"
      ]
     },
     "execution_count": 57,
     "metadata": {},
     "output_type": "execute_result"
    },
    {
     "data": {
      "image/png": "[encoded data removed]",
      "text/plain": [
       "<Figure size 640x480 with 1 Axes>"
      ]
     },
     "metadata": {},
     "output_type": "display_data"
    }
   ],
   "source": [
    "sns.regplot(x='calories', y='protein', data=mcd_data)\n",
    "plt.pyplot.ylim(0,)"
   ]
  },
  {
   "cell_type": "code",
   "execution_count": 98,
   "metadata": {},
   "outputs": [
    {
     "data": {
      "text/plain": [
       "<Axes: xlabel='calories', ylabel='protein'>"
      ]
     },
     "execution_count": 98,
     "metadata": {},
     "output_type": "execute_result"
    },
    {
     "data": {
      "image/png": "[encoded data removed]",
      "text/plain": [
       "<Figure size 640x480 with 1 Axes>"
      ]
     },
     "metadata": {},
     "output_type": "display_data"
    }
   ],
   "source": [
    "import seaborn as sns\n",
    "\n",
    "sns.residplot(data=mcd_data, x=mcd_data['calories'], y=mcd_data['protein'])"
   ]
  },
  {
   "cell_type": "code",
   "execution_count": 58,
   "metadata": {},
   "outputs": [
    {
     "data": {
      "text/plain": [
       "0.62070360737898"
      ]
     },
     "execution_count": 58,
     "metadata": {},
     "output_type": "execute_result"
    }
   ],
   "source": [
    "lm.score(x,y)"
   ]
  },
  {
   "cell_type": "markdown",
   "metadata": {},
   "source": [
    "## 7. Model Evaluating"
   ]
  },
  {
   "cell_type": "code",
   "execution_count": 61,
   "metadata": {},
   "outputs": [
    {
     "name": "stdout",
     "output_type": "stream",
     "text": [
      "<class 'pandas.core.frame.DataFrame'>\n",
      "RangeIndex: 260 entries, 0 to 259\n",
      "Data columns (total 28 columns):\n",
      " #   Column              Non-Null Count  Dtype   \n",
      "---  ------              --------------  -----   \n",
      " 0   category            260 non-null    object  \n",
      " 1   item                260 non-null    object  \n",
      " 2   calories            260 non-null    float64 \n",
      " 3   calo_from_fat       260 non-null    float64 \n",
      " 4   total_fat           260 non-null    float64 \n",
      " 5   total_fat_dv        260 non-null    float64 \n",
      " 6   saturated_fat       260 non-null    float64 \n",
      " 7   saturated_fat_dv    260 non-null    float64 \n",
      " 8   trans_fat           260 non-null    float64 \n",
      " 9   cholesterol         260 non-null    float64 \n",
      " 10  cholesterol_dv      260 non-null    float64 \n",
      " 11  sodium              260 non-null    float64 \n",
      " 12  sodium_dv           260 non-null    float64 \n",
      " 13  carb                260 non-null    float64 \n",
      " 14  carb_dv             260 non-null    float64 \n",
      " 15  fiber               260 non-null    float64 \n",
      " 16  fiber_dv            260 non-null    float64 \n",
      " 17  sugar               260 non-null    float64 \n",
      " 18  protein             260 non-null    float64 \n",
      " 19  vitamin_a_dv        260 non-null    float64 \n",
      " 20  vitamin_c_dv        260 non-null    float64 \n",
      " 21  calcium_dv          260 non-null    float64 \n",
      " 22  iron_dv             260 non-null    float64 \n",
      " 23  serving-size-st     260 non-null    float64 \n",
      " 24  caloric-binned      260 non-null    category\n",
      " 25  serving-binned      260 non-null    category\n",
      " 26  mineral-content_dv  260 non-null    float64 \n",
      " 27  calories_dv         260 non-null    float64 \n",
      "dtypes: category(2), float64(24), object(2)\n",
      "memory usage: 53.7+ KB\n"
     ]
    }
   ],
   "source": [
    "mcd_data.info()"
   ]
  },
  {
   "cell_type": "code",
   "execution_count": 62,
   "metadata": {},
   "outputs": [],
   "source": [
    "y_data = mcd_data['protein']\n",
    "x_data = mcd_data[['serving-size-st','calories']]"
   ]
  },
  {
   "cell_type": "code",
   "execution_count": 63,
   "metadata": {},
   "outputs": [
    {
     "name": "stdout",
     "output_type": "stream",
     "text": [
      "number of test samples : 26\n",
      "number of training samples: 234\n"
     ]
    }
   ],
   "source": [
    "from sklearn.model_selection import train_test_split\n",
    "\n",
    "\n",
    "x_train, x_test, y_train, y_test = train_test_split(x_data, y_data, test_size=0.10, random_state=1)\n",
    "\n",
    "\n",
    "print(\"number of test samples :\", x_test.shape[0])\n",
    "print(\"number of training samples:\",x_train.shape[0])"
   ]
  },
  {
   "cell_type": "code",
   "execution_count": 65,
   "metadata": {},
   "outputs": [],
   "source": [
    "model = LinearRegression().fit(x_train, y_train)\n",
    "predictions = model.predict(x_test)"
   ]
  },
  {
   "cell_type": "code",
   "execution_count": 66,
   "metadata": {},
   "outputs": [
    {
     "data": {
      "text/plain": [
       "(0.0, 0.4623874346143053)"
      ]
     },
     "execution_count": 66,
     "metadata": {},
     "output_type": "execute_result"
    },
    {
     "data": {
      "image/png": "[encoded data removed]",
      "text/plain": [
       "<Figure size 640x480 with 1 Axes>"
      ]
     },
     "metadata": {},
     "output_type": "display_data"
    }
   ],
   "source": [
    "sns.regplot(x=y_test, y=predictions)\n",
    "plt.pyplot.ylim(0,)"
   ]
  }
 ],
 "metadata": {
  "kernelspec": {
   "display_name": "Python 3",
   "language": "python",
   "name": "python3"
  },
  "language_info": {
   "codemirror_mode": {
    "name": "ipython",
    "version": 3
   },
   "file_extension": ".py",
   "mimetype": "text/x-python",
   "name": "python",
   "nbconvert_exporter": "python",
   "pygments_lexer": "ipython3",
   "version": "3.11.9"
  }
 },
 "nbformat": 4,
 "nbformat_minor": 2
}
